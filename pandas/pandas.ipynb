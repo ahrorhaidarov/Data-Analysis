{
 "cells": [
  {
   "cell_type": "markdown",
   "id": "a0666b08-97cc-4b38-a5e2-3ce35bb63cc0",
   "metadata": {},
   "source": [
    "# Welcome to Pandas\n",
    "\n",
    "<img \n",
    "src=\"data:image/png;base64,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\">"
   ]
  },
  {
   "cell_type": "markdown",
   "id": "de55e2aa-33d4-4204-b9e3-904b1eb0cebe",
   "metadata": {},
   "source": [
    "### Installing `Pandas` in your computer"
   ]
  },
  {
   "cell_type": "code",
   "execution_count": null,
   "id": "9a3ce386-9d8c-4a17-b39c-4e37fd2dc08e",
   "metadata": {},
   "outputs": [],
   "source": [
    "!pip install pandas\n",
    "# Or write just \"pip install pandas\" on terminal"
   ]
  },
  {
   "cell_type": "code",
   "execution_count": 3,
   "id": "initial_id",
   "metadata": {
    "collapsed": true,
    "jupyter": {
     "outputs_hidden": true
    },
    "ExecuteTime": {
     "end_time": "2024-01-28T12:26:30.007206611Z",
     "start_time": "2024-01-28T12:26:29.993396438Z"
    }
   },
   "outputs": [],
   "source": [
    "import pandas as pd"
   ]
  },
  {
   "cell_type": "markdown",
   "id": "6f19f032-3f11-4b41-8443-806cbdd1ea6f",
   "metadata": {
    "collapsed": false
   },
   "source": [
    "### Pandas Series"
   ]
  },
  {
   "cell_type": "code",
   "execution_count": 4,
   "id": "d34bdca1-9eff-49ba-90fd-93fe3b58acb6",
   "metadata": {
    "ExecuteTime": {
     "end_time": "2024-01-28T12:26:32.381496029Z",
     "start_time": "2024-01-28T12:26:32.300707998Z"
    }
   },
   "outputs": [
    {
     "data": {
      "text/plain": "0    1\n1    8\n2   -4\n3    6\ndtype: int64"
     },
     "execution_count": 4,
     "metadata": {},
     "output_type": "execute_result"
    }
   ],
   "source": [
    "ob = pd.Series([1, 8, -4, 6])\n",
    "ob"
   ]
  },
  {
   "cell_type": "markdown",
   "source": [
    "### Indexs"
   ],
   "metadata": {
    "collapsed": false
   },
   "id": "71f50246b0bf9f3d"
  },
  {
   "cell_type": "code",
   "execution_count": 5,
   "outputs": [
    {
     "data": {
      "text/plain": "RangeIndex(start=0, stop=4, step=1)"
     },
     "execution_count": 5,
     "metadata": {},
     "output_type": "execute_result"
    }
   ],
   "source": [
    "index = ob.index\n",
    "index"
   ],
   "metadata": {
    "collapsed": false,
    "ExecuteTime": {
     "end_time": "2024-01-28T12:26:32.926493038Z",
     "start_time": "2024-01-28T12:26:32.905154817Z"
    }
   },
   "id": "31d32fb8e7764d10"
  },
  {
   "cell_type": "code",
   "execution_count": 6,
   "outputs": [
    {
     "data": {
      "text/plain": "s    4\nd    5\ng    8\ny   -9\ndtype: int64"
     },
     "execution_count": 6,
     "metadata": {},
     "output_type": "execute_result"
    }
   ],
   "source": [
    "obj = pd.Series([4, 5, 8, -9], index=['s', 'd', 'g', 'y'])\n",
    "obj"
   ],
   "metadata": {
    "collapsed": false,
    "ExecuteTime": {
     "end_time": "2024-01-28T12:26:33.423810512Z",
     "start_time": "2024-01-28T12:26:33.408695166Z"
    }
   },
   "id": "d90a5e85e5853532"
  },
  {
   "cell_type": "code",
   "execution_count": 7,
   "outputs": [
    {
     "data": {
      "text/plain": "Index(['s', 'd', 'g', 'y'], dtype='object')"
     },
     "execution_count": 7,
     "metadata": {},
     "output_type": "execute_result"
    }
   ],
   "source": [
    "obj.index"
   ],
   "metadata": {
    "collapsed": false,
    "ExecuteTime": {
     "end_time": "2024-01-28T12:26:33.629355181Z",
     "start_time": "2024-01-28T12:26:33.490421145Z"
    }
   },
   "id": "29bfc00ec262b283"
  },
  {
   "cell_type": "markdown",
   "source": [
    "#### We can access to single values in Series like Numpy array using labels"
   ],
   "metadata": {
    "collapsed": false
   },
   "id": "26b3dac3ea13f34b"
  },
  {
   "cell_type": "code",
   "execution_count": 8,
   "outputs": [
    {
     "data": {
      "text/plain": "5"
     },
     "execution_count": 8,
     "metadata": {},
     "output_type": "execute_result"
    }
   ],
   "source": [
    "obj['d']"
   ],
   "metadata": {
    "collapsed": false,
    "ExecuteTime": {
     "end_time": "2024-01-28T12:26:33.882001410Z",
     "start_time": "2024-01-28T12:26:33.568783115Z"
    }
   },
   "id": "4d74435e98afb4f"
  },
  {
   "cell_type": "code",
   "execution_count": 9,
   "outputs": [],
   "source": [
    "obj['s'] = 10"
   ],
   "metadata": {
    "collapsed": false,
    "ExecuteTime": {
     "end_time": "2024-01-28T12:26:34.107711717Z",
     "start_time": "2024-01-28T12:26:33.593079266Z"
    }
   },
   "id": "2ba44c9fa46d67eb"
  },
  {
   "cell_type": "code",
   "execution_count": 10,
   "outputs": [
    {
     "data": {
      "text/plain": "s    10\nd     5\ny    -9\ndtype: int64"
     },
     "execution_count": 10,
     "metadata": {},
     "output_type": "execute_result"
    }
   ],
   "source": [
    "obj[['s', 'd', 'y']]"
   ],
   "metadata": {
    "collapsed": false,
    "ExecuteTime": {
     "end_time": "2024-01-28T12:26:34.112642777Z",
     "start_time": "2024-01-28T12:26:33.634476003Z"
    }
   },
   "id": "529265185beba267"
  },
  {
   "cell_type": "markdown",
   "source": [
    "#### We use Numpy functions ar Numpy operations for filtering with boolean array, scalar multiplication, or applying math functions"
   ],
   "metadata": {
    "collapsed": false
   },
   "id": "9d009a0c65ef5ee9"
  },
  {
   "cell_type": "code",
   "execution_count": 11,
   "outputs": [
    {
     "data": {
      "text/plain": "s    10\nd     5\ng     8\ndtype: int64"
     },
     "execution_count": 11,
     "metadata": {},
     "output_type": "execute_result"
    }
   ],
   "source": [
    "obj[obj > 0]"
   ],
   "metadata": {
    "collapsed": false,
    "ExecuteTime": {
     "end_time": "2024-01-28T12:26:34.350924427Z",
     "start_time": "2024-01-28T12:26:33.704798853Z"
    }
   },
   "id": "c6ec171abe1e28ae"
  },
  {
   "cell_type": "code",
   "execution_count": 12,
   "outputs": [
    {
     "data": {
      "text/plain": "s    20\nd    10\ng    16\ny   -18\ndtype: int64"
     },
     "execution_count": 12,
     "metadata": {},
     "output_type": "execute_result"
    }
   ],
   "source": [
    "obj * 2"
   ],
   "metadata": {
    "collapsed": false,
    "ExecuteTime": {
     "end_time": "2024-01-28T12:26:34.556479784Z",
     "start_time": "2024-01-28T12:26:33.738166723Z"
    }
   },
   "id": "d9eef87751f8a1f0"
  },
  {
   "cell_type": "code",
   "execution_count": 13,
   "outputs": [
    {
     "data": {
      "text/plain": "s    10\nd     5\ng     8\ny     9\ndtype: int64"
     },
     "execution_count": 13,
     "metadata": {},
     "output_type": "execute_result"
    }
   ],
   "source": [
    "import numpy as np\n",
    "\n",
    "np.abs(obj)"
   ],
   "metadata": {
    "collapsed": false,
    "ExecuteTime": {
     "end_time": "2024-01-28T12:26:34.716543308Z",
     "start_time": "2024-01-28T12:26:33.757201267Z"
    }
   },
   "id": "755f255e81586367"
  },
  {
   "cell_type": "code",
   "execution_count": 14,
   "outputs": [
    {
     "data": {
      "text/plain": "True"
     },
     "execution_count": 14,
     "metadata": {},
     "output_type": "execute_result"
    }
   ],
   "source": [
    "'s' in obj"
   ],
   "metadata": {
    "collapsed": false,
    "ExecuteTime": {
     "end_time": "2024-01-28T12:26:34.780398303Z",
     "start_time": "2024-01-28T12:26:33.774583580Z"
    }
   },
   "id": "d4d1781441b21c50"
  },
  {
   "cell_type": "code",
   "execution_count": 15,
   "outputs": [
    {
     "data": {
      "text/plain": "False"
     },
     "execution_count": 15,
     "metadata": {},
     "output_type": "execute_result"
    }
   ],
   "source": [
    "'l' in obj"
   ],
   "metadata": {
    "collapsed": false,
    "ExecuteTime": {
     "end_time": "2024-01-28T12:26:34.780985527Z",
     "start_time": "2024-01-28T12:26:33.818550303Z"
    }
   },
   "id": "3cbb5829c81eb3cb"
  },
  {
   "cell_type": "markdown",
   "source": [
    "#### We have data contained in a Python dict, we can easily create a Series from it by passing the dict:"
   ],
   "metadata": {
    "collapsed": false
   },
   "id": "707283d1d64b9c4d"
  },
  {
   "cell_type": "code",
   "execution_count": 16,
   "outputs": [
    {
     "data": {
      "text/plain": "Tajikistan      10250000\nUzbekistan      35450000\nKazakhstan      19730000\nTurkmenistan     6000000\nKirgyztan        7000000\ndtype: int64"
     },
     "execution_count": 16,
     "metadata": {},
     "output_type": "execute_result"
    }
   ],
   "source": [
    "data = {'Tajikistan': 10_250_000,\n",
    "        'Uzbekistan': 35_450_000,\n",
    "        'Kazakhstan': 19_730_000,\n",
    "        'Turkmenistan': 6_000_000,\n",
    "        'Kirgyztan': 7_000_000\n",
    "    }\n",
    "obj2 = pd.Series(data)\n",
    "obj2"
   ],
   "metadata": {
    "collapsed": false,
    "ExecuteTime": {
     "end_time": "2024-01-28T12:26:34.968678454Z",
     "start_time": "2024-01-28T12:26:33.852485016Z"
    }
   },
   "id": "b9c3d49ab9e5f3de"
  },
  {
   "cell_type": "code",
   "execution_count": 17,
   "outputs": [
    {
     "data": {
      "text/plain": "Tajikistan      10250000.0\nUzbekistan      35450000.0\nTurkmenistan     6000000.0\nKirgyztan        7000000.0\nRussia                 NaN\ndtype: float64"
     },
     "execution_count": 17,
     "metadata": {},
     "output_type": "execute_result"
    }
   ],
   "source": [
    "countries = ['Tajikistan', 'Uzbekistan', 'Turkmenistan', 'Kirgyztan', 'Russia']\n",
    "\n",
    "obj3 = pd.Series(data, index=countries)\n",
    "obj3"
   ],
   "metadata": {
    "collapsed": false,
    "ExecuteTime": {
     "end_time": "2024-01-28T12:26:35.097008347Z",
     "start_time": "2024-01-28T12:26:33.906312523Z"
    }
   },
   "id": "d1fce80892da95da"
  },
  {
   "cell_type": "markdown",
   "source": [
    "#### Here, 5 values found in data where were number of populations, but there no vallue for 'Russia' was found, it will take NaN (not number), which considered in pandas to mark missing values\n",
    "\n",
    "#### We can use isnull and notnull functions to detect missing data"
   ],
   "metadata": {
    "collapsed": false
   },
   "id": "5cb0758632709484"
  },
  {
   "cell_type": "code",
   "execution_count": 18,
   "outputs": [
    {
     "data": {
      "text/plain": "Tajikistan      False\nUzbekistan      False\nTurkmenistan    False\nKirgyztan       False\nRussia           True\ndtype: bool"
     },
     "execution_count": 18,
     "metadata": {},
     "output_type": "execute_result"
    }
   ],
   "source": [
    "pd.isnull(obj3)"
   ],
   "metadata": {
    "collapsed": false,
    "ExecuteTime": {
     "end_time": "2024-01-28T12:26:35.173206623Z",
     "start_time": "2024-01-28T12:26:34.002197561Z"
    }
   },
   "id": "8c6485fd74670cb4"
  },
  {
   "cell_type": "code",
   "execution_count": 19,
   "outputs": [
    {
     "data": {
      "text/plain": "Tajikistan       True\nUzbekistan       True\nTurkmenistan     True\nKirgyztan        True\nRussia          False\ndtype: bool"
     },
     "execution_count": 19,
     "metadata": {},
     "output_type": "execute_result"
    }
   ],
   "source": [
    "pd.notnull(obj3)"
   ],
   "metadata": {
    "collapsed": false,
    "ExecuteTime": {
     "end_time": "2024-01-28T12:26:35.474109982Z",
     "start_time": "2024-01-28T12:26:34.029313169Z"
    }
   },
   "id": "6f7c896777e61ca4"
  },
  {
   "cell_type": "code",
   "execution_count": 20,
   "outputs": [
    {
     "data": {
      "text/plain": "Tajikistan      False\nUzbekistan      False\nTurkmenistan    False\nKirgyztan       False\nRussia           True\ndtype: bool"
     },
     "execution_count": 20,
     "metadata": {},
     "output_type": "execute_result"
    }
   ],
   "source": [
    "obj3.isnull()"
   ],
   "metadata": {
    "collapsed": false,
    "ExecuteTime": {
     "end_time": "2024-01-28T12:26:35.559284524Z",
     "start_time": "2024-01-28T12:26:34.082365473Z"
    }
   },
   "id": "2090dc20fb98ee05"
  },
  {
   "cell_type": "markdown",
   "source": [
    "#### Usefull fitures of Series"
   ],
   "metadata": {
    "collapsed": false
   },
   "id": "d54218eb043618ca"
  },
  {
   "cell_type": "code",
   "execution_count": 21,
   "outputs": [
    {
     "data": {
      "text/plain": "Tajikistan      10250000\nUzbekistan      35450000\nKazakhstan      19730000\nTurkmenistan     6000000\nKirgyztan        7000000\ndtype: int64"
     },
     "execution_count": 21,
     "metadata": {},
     "output_type": "execute_result"
    }
   ],
   "source": [
    "obj2"
   ],
   "metadata": {
    "collapsed": false,
    "ExecuteTime": {
     "end_time": "2024-01-28T12:26:36.038630213Z",
     "start_time": "2024-01-28T12:26:34.106010412Z"
    }
   },
   "id": "45d13294da52dd38"
  },
  {
   "cell_type": "code",
   "execution_count": 22,
   "outputs": [
    {
     "data": {
      "text/plain": "Tajikistan      10250000.0\nUzbekistan      35450000.0\nTurkmenistan     6000000.0\nKirgyztan        7000000.0\nRussia                 NaN\ndtype: float64"
     },
     "execution_count": 22,
     "metadata": {},
     "output_type": "execute_result"
    }
   ],
   "source": [
    "obj3"
   ],
   "metadata": {
    "collapsed": false,
    "ExecuteTime": {
     "end_time": "2024-01-28T12:26:36.329729110Z",
     "start_time": "2024-01-28T12:26:34.142320070Z"
    }
   },
   "id": "fff4c6cae3e9b65c"
  },
  {
   "cell_type": "code",
   "execution_count": 23,
   "outputs": [
    {
     "data": {
      "text/plain": "Kazakhstan             NaN\nKirgyztan       14000000.0\nRussia                 NaN\nTajikistan      20500000.0\nTurkmenistan    12000000.0\nUzbekistan      70900000.0\ndtype: float64"
     },
     "execution_count": 23,
     "metadata": {},
     "output_type": "execute_result"
    }
   ],
   "source": [
    "obj2 + obj3"
   ],
   "metadata": {
    "collapsed": false,
    "ExecuteTime": {
     "end_time": "2024-01-28T12:26:36.331189472Z",
     "start_time": "2024-01-28T12:26:34.182433631Z"
    }
   },
   "id": "1cf7d2d79a6fb19b"
  },
  {
   "cell_type": "markdown",
   "source": [
    "#### Both Series object itself and its index have a name attribute, which integrates with other key areas of pandas functionally:"
   ],
   "metadata": {
    "collapsed": false
   },
   "id": "8fb53ebc71cb5fa8"
  },
  {
   "cell_type": "code",
   "execution_count": 24,
   "outputs": [
    {
     "data": {
      "text/plain": "Country name\nTajikistan      10250000.0\nUzbekistan      35450000.0\nTurkmenistan     6000000.0\nKirgyztan        7000000.0\nRussia                 NaN\nName: Populations, dtype: float64"
     },
     "execution_count": 24,
     "metadata": {},
     "output_type": "execute_result"
    }
   ],
   "source": [
    "obj3.name = 'Populations'\n",
    "obj3.index.name = 'Country name'\n",
    "obj3"
   ],
   "metadata": {
    "collapsed": false,
    "ExecuteTime": {
     "end_time": "2024-01-28T12:26:36.540036926Z",
     "start_time": "2024-01-28T12:26:34.256210942Z"
    }
   },
   "id": "b0789a348e5a6409"
  },
  {
   "cell_type": "markdown",
   "source": [
    "#### A Series's index can be altered in-place by assignment:"
   ],
   "metadata": {
    "collapsed": false
   },
   "id": "5abde1c82f5a8546"
  },
  {
   "cell_type": "code",
   "execution_count": 25,
   "outputs": [
    {
     "data": {
      "text/plain": "s    10\nd     5\ng     8\ny    -9\ndtype: int64"
     },
     "execution_count": 25,
     "metadata": {},
     "output_type": "execute_result"
    }
   ],
   "source": [
    "obj"
   ],
   "metadata": {
    "collapsed": false,
    "ExecuteTime": {
     "end_time": "2024-01-28T12:26:36.583819929Z",
     "start_time": "2024-01-28T12:26:34.316608968Z"
    }
   },
   "id": "d881407b9da193d8"
  },
  {
   "cell_type": "code",
   "execution_count": 26,
   "outputs": [
    {
     "data": {
      "text/plain": "John     10\nPeter     5\nKevin     8\nAlan     -9\ndtype: int64"
     },
     "execution_count": 26,
     "metadata": {},
     "output_type": "execute_result"
    }
   ],
   "source": [
    "obj.index = ['John', 'Peter', 'Kevin', 'Alan']\n",
    "obj"
   ],
   "metadata": {
    "collapsed": false,
    "ExecuteTime": {
     "end_time": "2024-01-28T12:26:36.590330685Z",
     "start_time": "2024-01-28T12:26:34.362284468Z"
    }
   },
   "id": "60fef0b0c89ad50f"
  },
  {
   "cell_type": "markdown",
   "source": [
    "## DataFrame\n",
    "### A DataFrame represents a rectangular table of data and contains an ordered collec‐\n",
    "### tion of columns, each of which can be a different value type (numeric, string,\n",
    "### boolean, etc.)."
   ],
   "metadata": {
    "collapsed": false
   },
   "id": "afde96e1066bc1ca"
  },
  {
   "cell_type": "code",
   "execution_count": 27,
   "outputs": [
    {
     "data": {
      "text/plain": "        Country  Population       Location\n0    Tajikistan    10250000           Asia\n1    Uzbekistan    35450000           Asia\n2  Turkmenistan    19730000           Asia\n3     Kirgyztan     6000000           Asia\n4     Kirgyztan     7000000         Europe\n5         U.S.A   332000000  North America",
      "text/html": "<div>\n<style scoped>\n    .dataframe tbody tr th:only-of-type {\n        vertical-align: middle;\n    }\n\n    .dataframe tbody tr th {\n        vertical-align: top;\n    }\n\n    .dataframe thead th {\n        text-align: right;\n    }\n</style>\n<table border=\"1\" class=\"dataframe\">\n  <thead>\n    <tr style=\"text-align: right;\">\n      <th></th>\n      <th>Country</th>\n      <th>Population</th>\n      <th>Location</th>\n    </tr>\n  </thead>\n  <tbody>\n    <tr>\n      <th>0</th>\n      <td>Tajikistan</td>\n      <td>10250000</td>\n      <td>Asia</td>\n    </tr>\n    <tr>\n      <th>1</th>\n      <td>Uzbekistan</td>\n      <td>35450000</td>\n      <td>Asia</td>\n    </tr>\n    <tr>\n      <th>2</th>\n      <td>Turkmenistan</td>\n      <td>19730000</td>\n      <td>Asia</td>\n    </tr>\n    <tr>\n      <th>3</th>\n      <td>Kirgyztan</td>\n      <td>6000000</td>\n      <td>Asia</td>\n    </tr>\n    <tr>\n      <th>4</th>\n      <td>Kirgyztan</td>\n      <td>7000000</td>\n      <td>Europe</td>\n    </tr>\n    <tr>\n      <th>5</th>\n      <td>U.S.A</td>\n      <td>332000000</td>\n      <td>North America</td>\n    </tr>\n  </tbody>\n</table>\n</div>"
     },
     "execution_count": 27,
     "metadata": {},
     "output_type": "execute_result"
    }
   ],
   "source": [
    "data = {'Country': ['Tajikistan', 'Uzbekistan', 'Turkmenistan', 'Kirgyztan', 'Kirgyztan', 'U.S.A'],\n",
    "        'Population': [10_250_000, 35_450_000, 19_730_000, 6_000_000, 7_000_000, 332_000_000],\n",
    "        'Location': ['Asia', 'Asia', 'Asia', 'Asia', 'Europe', 'North America']}\n",
    "\n",
    "df = pd.DataFrame(data)\n",
    "df"
   ],
   "metadata": {
    "collapsed": false,
    "ExecuteTime": {
     "end_time": "2024-01-28T12:26:36.605707316Z",
     "start_time": "2024-01-28T12:26:34.394717686Z"
    }
   },
   "id": "b945d45dd0a9438b"
  },
  {
   "cell_type": "markdown",
   "source": [
    "### For large DataFrames, the head method selects only the first five rows:"
   ],
   "metadata": {
    "collapsed": false
   },
   "id": "7c75099ef78fa09c"
  },
  {
   "cell_type": "code",
   "execution_count": 28,
   "outputs": [
    {
     "data": {
      "text/plain": "        Country  Population Location\n0    Tajikistan    10250000     Asia\n1    Uzbekistan    35450000     Asia\n2  Turkmenistan    19730000     Asia\n3     Kirgyztan     6000000     Asia\n4     Kirgyztan     7000000   Europe",
      "text/html": "<div>\n<style scoped>\n    .dataframe tbody tr th:only-of-type {\n        vertical-align: middle;\n    }\n\n    .dataframe tbody tr th {\n        vertical-align: top;\n    }\n\n    .dataframe thead th {\n        text-align: right;\n    }\n</style>\n<table border=\"1\" class=\"dataframe\">\n  <thead>\n    <tr style=\"text-align: right;\">\n      <th></th>\n      <th>Country</th>\n      <th>Population</th>\n      <th>Location</th>\n    </tr>\n  </thead>\n  <tbody>\n    <tr>\n      <th>0</th>\n      <td>Tajikistan</td>\n      <td>10250000</td>\n      <td>Asia</td>\n    </tr>\n    <tr>\n      <th>1</th>\n      <td>Uzbekistan</td>\n      <td>35450000</td>\n      <td>Asia</td>\n    </tr>\n    <tr>\n      <th>2</th>\n      <td>Turkmenistan</td>\n      <td>19730000</td>\n      <td>Asia</td>\n    </tr>\n    <tr>\n      <th>3</th>\n      <td>Kirgyztan</td>\n      <td>6000000</td>\n      <td>Asia</td>\n    </tr>\n    <tr>\n      <th>4</th>\n      <td>Kirgyztan</td>\n      <td>7000000</td>\n      <td>Europe</td>\n    </tr>\n  </tbody>\n</table>\n</div>"
     },
     "execution_count": 28,
     "metadata": {},
     "output_type": "execute_result"
    }
   ],
   "source": [
    "df.head()"
   ],
   "metadata": {
    "collapsed": false,
    "ExecuteTime": {
     "end_time": "2024-01-28T12:26:36.636162386Z",
     "start_time": "2024-01-28T12:26:34.452030495Z"
    }
   },
   "id": "205db51a72294ec0"
  },
  {
   "cell_type": "code",
   "execution_count": 29,
   "outputs": [
    {
     "data": {
      "text/plain": "   Population       Location       Country\n0    10250000           Asia    Tajikistan\n1    35450000           Asia    Uzbekistan\n2    19730000           Asia  Turkmenistan\n3     6000000           Asia     Kirgyztan\n4     7000000         Europe     Kirgyztan\n5   332000000  North America         U.S.A",
      "text/html": "<div>\n<style scoped>\n    .dataframe tbody tr th:only-of-type {\n        vertical-align: middle;\n    }\n\n    .dataframe tbody tr th {\n        vertical-align: top;\n    }\n\n    .dataframe thead th {\n        text-align: right;\n    }\n</style>\n<table border=\"1\" class=\"dataframe\">\n  <thead>\n    <tr style=\"text-align: right;\">\n      <th></th>\n      <th>Population</th>\n      <th>Location</th>\n      <th>Country</th>\n    </tr>\n  </thead>\n  <tbody>\n    <tr>\n      <th>0</th>\n      <td>10250000</td>\n      <td>Asia</td>\n      <td>Tajikistan</td>\n    </tr>\n    <tr>\n      <th>1</th>\n      <td>35450000</td>\n      <td>Asia</td>\n      <td>Uzbekistan</td>\n    </tr>\n    <tr>\n      <th>2</th>\n      <td>19730000</td>\n      <td>Asia</td>\n      <td>Turkmenistan</td>\n    </tr>\n    <tr>\n      <th>3</th>\n      <td>6000000</td>\n      <td>Asia</td>\n      <td>Kirgyztan</td>\n    </tr>\n    <tr>\n      <th>4</th>\n      <td>7000000</td>\n      <td>Europe</td>\n      <td>Kirgyztan</td>\n    </tr>\n    <tr>\n      <th>5</th>\n      <td>332000000</td>\n      <td>North America</td>\n      <td>U.S.A</td>\n    </tr>\n  </tbody>\n</table>\n</div>"
     },
     "execution_count": 29,
     "metadata": {},
     "output_type": "execute_result"
    }
   ],
   "source": [
    "pd.DataFrame(data, columns=['Population', 'Location', 'Country'])"
   ],
   "metadata": {
    "collapsed": false,
    "ExecuteTime": {
     "end_time": "2024-01-28T12:26:36.653123244Z",
     "start_time": "2024-01-28T12:26:34.484442287Z"
    }
   },
   "id": "6bac937f74edece7"
  },
  {
   "cell_type": "code",
   "execution_count": 30,
   "outputs": [
    {
     "data": {
      "text/plain": "       Population       Location       Country Ranking\none      10250000           Asia    Tajikistan     NaN\ntwo      35450000           Asia    Uzbekistan     NaN\nthree    19730000           Asia  Turkmenistan     NaN\nfour      6000000           Asia     Kirgyztan     NaN\nfive      7000000         Europe     Kirgyztan     NaN\nsix     332000000  North America         U.S.A     NaN",
      "text/html": "<div>\n<style scoped>\n    .dataframe tbody tr th:only-of-type {\n        vertical-align: middle;\n    }\n\n    .dataframe tbody tr th {\n        vertical-align: top;\n    }\n\n    .dataframe thead th {\n        text-align: right;\n    }\n</style>\n<table border=\"1\" class=\"dataframe\">\n  <thead>\n    <tr style=\"text-align: right;\">\n      <th></th>\n      <th>Population</th>\n      <th>Location</th>\n      <th>Country</th>\n      <th>Ranking</th>\n    </tr>\n  </thead>\n  <tbody>\n    <tr>\n      <th>one</th>\n      <td>10250000</td>\n      <td>Asia</td>\n      <td>Tajikistan</td>\n      <td>NaN</td>\n    </tr>\n    <tr>\n      <th>two</th>\n      <td>35450000</td>\n      <td>Asia</td>\n      <td>Uzbekistan</td>\n      <td>NaN</td>\n    </tr>\n    <tr>\n      <th>three</th>\n      <td>19730000</td>\n      <td>Asia</td>\n      <td>Turkmenistan</td>\n      <td>NaN</td>\n    </tr>\n    <tr>\n      <th>four</th>\n      <td>6000000</td>\n      <td>Asia</td>\n      <td>Kirgyztan</td>\n      <td>NaN</td>\n    </tr>\n    <tr>\n      <th>five</th>\n      <td>7000000</td>\n      <td>Europe</td>\n      <td>Kirgyztan</td>\n      <td>NaN</td>\n    </tr>\n    <tr>\n      <th>six</th>\n      <td>332000000</td>\n      <td>North America</td>\n      <td>U.S.A</td>\n      <td>NaN</td>\n    </tr>\n  </tbody>\n</table>\n</div>"
     },
     "execution_count": 30,
     "metadata": {},
     "output_type": "execute_result"
    }
   ],
   "source": [
    "df2 = pd.DataFrame(data, columns=['Population', 'Location', 'Country', 'Ranking'], \n",
    "                   index=['one', 'two', 'three', 'four', 'five', 'six'])\n",
    "df2"
   ],
   "metadata": {
    "collapsed": false,
    "ExecuteTime": {
     "end_time": "2024-01-28T12:26:36.664784234Z",
     "start_time": "2024-01-28T12:26:34.508369316Z"
    }
   },
   "id": "c8cf6cca6571ad6d"
  },
  {
   "cell_type": "code",
   "execution_count": 31,
   "outputs": [
    {
     "data": {
      "text/plain": "Index(['Population', 'Location', 'Country', 'Ranking'], dtype='object')"
     },
     "execution_count": 31,
     "metadata": {},
     "output_type": "execute_result"
    }
   ],
   "source": [
    "df2.columns"
   ],
   "metadata": {
    "collapsed": false,
    "ExecuteTime": {
     "end_time": "2024-01-28T12:26:36.670458194Z",
     "start_time": "2024-01-28T12:26:34.554269007Z"
    }
   },
   "id": "2b094f7e57ad2958"
  },
  {
   "cell_type": "markdown",
   "source": [
    "#### When access to DataFrame's column by dict-like notation or by attribute it returns a Series"
   ],
   "metadata": {
    "collapsed": false
   },
   "id": "f5296ab2b107ced5"
  },
  {
   "cell_type": "code",
   "execution_count": 32,
   "outputs": [
    {
     "data": {
      "text/plain": "one        Tajikistan\ntwo        Uzbekistan\nthree    Turkmenistan\nfour        Kirgyztan\nfive        Kirgyztan\nsix             U.S.A\nName: Country, dtype: object"
     },
     "execution_count": 32,
     "metadata": {},
     "output_type": "execute_result"
    }
   ],
   "source": [
    "df2['Country']"
   ],
   "metadata": {
    "collapsed": false,
    "ExecuteTime": {
     "end_time": "2024-01-28T12:26:36.696748234Z",
     "start_time": "2024-01-28T12:26:34.572451873Z"
    }
   },
   "id": "e1c99b262f7b2b9e"
  },
  {
   "cell_type": "code",
   "execution_count": 33,
   "outputs": [
    {
     "data": {
      "text/plain": "one               Asia\ntwo               Asia\nthree             Asia\nfour              Asia\nfive            Europe\nsix      North America\nName: Location, dtype: object"
     },
     "execution_count": 33,
     "metadata": {},
     "output_type": "execute_result"
    }
   ],
   "source": [
    "df2.Location"
   ],
   "metadata": {
    "collapsed": false,
    "ExecuteTime": {
     "end_time": "2024-01-28T12:26:36.697289687Z",
     "start_time": "2024-01-28T12:26:34.630351772Z"
    }
   },
   "id": "571d765ebef11ab3"
  },
  {
   "cell_type": "markdown",
   "source": [
    "#### Rows can also be retrived by position or name with the special loc attribute"
   ],
   "metadata": {
    "collapsed": false
   },
   "id": "d82475a717746a3c"
  },
  {
   "cell_type": "code",
   "execution_count": 34,
   "outputs": [
    {
     "data": {
      "text/plain": "Population        19730000\nLocation              Asia\nCountry       Turkmenistan\nRanking                NaN\nName: three, dtype: object"
     },
     "execution_count": 34,
     "metadata": {},
     "output_type": "execute_result"
    }
   ],
   "source": [
    "df2.loc['three']"
   ],
   "metadata": {
    "collapsed": false,
    "ExecuteTime": {
     "end_time": "2024-01-28T12:26:36.710481815Z",
     "start_time": "2024-01-28T12:26:34.655001285Z"
    }
   },
   "id": "ea7d017ae15b2bb8"
  },
  {
   "cell_type": "markdown",
   "source": [
    "#### We can change the scalar value or an array of values "
   ],
   "metadata": {
    "collapsed": false
   },
   "id": "6819400d65f828e9"
  },
  {
   "cell_type": "code",
   "execution_count": 35,
   "outputs": [
    {
     "data": {
      "text/plain": "       Population       Location       Country  Ranking\none      10250000           Asia    Tajikistan        1\ntwo      35450000           Asia    Uzbekistan        1\nthree    19730000           Asia  Turkmenistan        1\nfour      6000000           Asia     Kirgyztan        1\nfive      7000000         Europe     Kirgyztan        1\nsix     332000000  North America         U.S.A        1",
      "text/html": "<div>\n<style scoped>\n    .dataframe tbody tr th:only-of-type {\n        vertical-align: middle;\n    }\n\n    .dataframe tbody tr th {\n        vertical-align: top;\n    }\n\n    .dataframe thead th {\n        text-align: right;\n    }\n</style>\n<table border=\"1\" class=\"dataframe\">\n  <thead>\n    <tr style=\"text-align: right;\">\n      <th></th>\n      <th>Population</th>\n      <th>Location</th>\n      <th>Country</th>\n      <th>Ranking</th>\n    </tr>\n  </thead>\n  <tbody>\n    <tr>\n      <th>one</th>\n      <td>10250000</td>\n      <td>Asia</td>\n      <td>Tajikistan</td>\n      <td>1</td>\n    </tr>\n    <tr>\n      <th>two</th>\n      <td>35450000</td>\n      <td>Asia</td>\n      <td>Uzbekistan</td>\n      <td>1</td>\n    </tr>\n    <tr>\n      <th>three</th>\n      <td>19730000</td>\n      <td>Asia</td>\n      <td>Turkmenistan</td>\n      <td>1</td>\n    </tr>\n    <tr>\n      <th>four</th>\n      <td>6000000</td>\n      <td>Asia</td>\n      <td>Kirgyztan</td>\n      <td>1</td>\n    </tr>\n    <tr>\n      <th>five</th>\n      <td>7000000</td>\n      <td>Europe</td>\n      <td>Kirgyztan</td>\n      <td>1</td>\n    </tr>\n    <tr>\n      <th>six</th>\n      <td>332000000</td>\n      <td>North America</td>\n      <td>U.S.A</td>\n      <td>1</td>\n    </tr>\n  </tbody>\n</table>\n</div>"
     },
     "execution_count": 35,
     "metadata": {},
     "output_type": "execute_result"
    }
   ],
   "source": [
    "df2['Ranking'] = 1\n",
    "df2"
   ],
   "metadata": {
    "collapsed": false,
    "ExecuteTime": {
     "end_time": "2024-01-28T12:26:36.731200457Z",
     "start_time": "2024-01-28T12:26:34.744881551Z"
    }
   },
   "id": "61ce48ff8f3aa97"
  },
  {
   "cell_type": "code",
   "execution_count": 36,
   "outputs": [
    {
     "data": {
      "text/plain": "       Population       Location       Country  Ranking\none      10250000           Asia    Tajikistan        1\ntwo      35450000           Asia    Uzbekistan        2\nthree    19730000           Asia  Turkmenistan        3\nfour      6000000           Asia     Kirgyztan        4\nfive      7000000         Europe     Kirgyztan        5\nsix     332000000  North America         U.S.A        6",
      "text/html": "<div>\n<style scoped>\n    .dataframe tbody tr th:only-of-type {\n        vertical-align: middle;\n    }\n\n    .dataframe tbody tr th {\n        vertical-align: top;\n    }\n\n    .dataframe thead th {\n        text-align: right;\n    }\n</style>\n<table border=\"1\" class=\"dataframe\">\n  <thead>\n    <tr style=\"text-align: right;\">\n      <th></th>\n      <th>Population</th>\n      <th>Location</th>\n      <th>Country</th>\n      <th>Ranking</th>\n    </tr>\n  </thead>\n  <tbody>\n    <tr>\n      <th>one</th>\n      <td>10250000</td>\n      <td>Asia</td>\n      <td>Tajikistan</td>\n      <td>1</td>\n    </tr>\n    <tr>\n      <th>two</th>\n      <td>35450000</td>\n      <td>Asia</td>\n      <td>Uzbekistan</td>\n      <td>2</td>\n    </tr>\n    <tr>\n      <th>three</th>\n      <td>19730000</td>\n      <td>Asia</td>\n      <td>Turkmenistan</td>\n      <td>3</td>\n    </tr>\n    <tr>\n      <th>four</th>\n      <td>6000000</td>\n      <td>Asia</td>\n      <td>Kirgyztan</td>\n      <td>4</td>\n    </tr>\n    <tr>\n      <th>five</th>\n      <td>7000000</td>\n      <td>Europe</td>\n      <td>Kirgyztan</td>\n      <td>5</td>\n    </tr>\n    <tr>\n      <th>six</th>\n      <td>332000000</td>\n      <td>North America</td>\n      <td>U.S.A</td>\n      <td>6</td>\n    </tr>\n  </tbody>\n</table>\n</div>"
     },
     "execution_count": 36,
     "metadata": {},
     "output_type": "execute_result"
    }
   ],
   "source": [
    "df2.Ranking = np.arange(1, 7)\n",
    "df2"
   ],
   "metadata": {
    "collapsed": false,
    "ExecuteTime": {
     "end_time": "2024-01-28T12:26:36.755870641Z",
     "start_time": "2024-01-28T12:26:34.755039652Z"
    }
   },
   "id": "54fdcb96166cbb7c"
  },
  {
   "cell_type": "code",
   "execution_count": 37,
   "outputs": [
    {
     "data": {
      "text/plain": "       Population       Location       Country  Ranking\none      10250000           Asia    Tajikistan      1.0\ntwo      35450000           Asia    Uzbekistan      8.0\nthree    19730000           Asia  Turkmenistan      NaN\nfour      6000000           Asia     Kirgyztan      NaN\nfive      7000000         Europe     Kirgyztan     78.0\nsix     332000000  North America         U.S.A     15.0",
      "text/html": "<div>\n<style scoped>\n    .dataframe tbody tr th:only-of-type {\n        vertical-align: middle;\n    }\n\n    .dataframe tbody tr th {\n        vertical-align: top;\n    }\n\n    .dataframe thead th {\n        text-align: right;\n    }\n</style>\n<table border=\"1\" class=\"dataframe\">\n  <thead>\n    <tr style=\"text-align: right;\">\n      <th></th>\n      <th>Population</th>\n      <th>Location</th>\n      <th>Country</th>\n      <th>Ranking</th>\n    </tr>\n  </thead>\n  <tbody>\n    <tr>\n      <th>one</th>\n      <td>10250000</td>\n      <td>Asia</td>\n      <td>Tajikistan</td>\n      <td>1.0</td>\n    </tr>\n    <tr>\n      <th>two</th>\n      <td>35450000</td>\n      <td>Asia</td>\n      <td>Uzbekistan</td>\n      <td>8.0</td>\n    </tr>\n    <tr>\n      <th>three</th>\n      <td>19730000</td>\n      <td>Asia</td>\n      <td>Turkmenistan</td>\n      <td>NaN</td>\n    </tr>\n    <tr>\n      <th>four</th>\n      <td>6000000</td>\n      <td>Asia</td>\n      <td>Kirgyztan</td>\n      <td>NaN</td>\n    </tr>\n    <tr>\n      <th>five</th>\n      <td>7000000</td>\n      <td>Europe</td>\n      <td>Kirgyztan</td>\n      <td>78.0</td>\n    </tr>\n    <tr>\n      <th>six</th>\n      <td>332000000</td>\n      <td>North America</td>\n      <td>U.S.A</td>\n      <td>15.0</td>\n    </tr>\n  </tbody>\n</table>\n</div>"
     },
     "execution_count": 37,
     "metadata": {},
     "output_type": "execute_result"
    }
   ],
   "source": [
    "values = pd.Series([8, 15, 78, 1], index=['two', 'six', 'five', 'one'])\n",
    "\n",
    "df2.Ranking = values\n",
    "df2"
   ],
   "metadata": {
    "collapsed": false,
    "ExecuteTime": {
     "end_time": "2024-01-28T12:26:36.782260608Z",
     "start_time": "2024-01-28T12:26:34.795146374Z"
    }
   },
   "id": "a83bd1ef9213b0fd"
  },
  {
   "cell_type": "code",
   "execution_count": 38,
   "outputs": [
    {
     "data": {
      "text/plain": "       Population       Location       Country  Ranking  Asian\none      10250000           Asia    Tajikistan      1.0   True\ntwo      35450000           Asia    Uzbekistan      8.0   True\nthree    19730000           Asia  Turkmenistan      NaN   True\nfour      6000000           Asia     Kirgyztan      NaN   True\nfive      7000000         Europe     Kirgyztan     78.0  False\nsix     332000000  North America         U.S.A     15.0  False",
      "text/html": "<div>\n<style scoped>\n    .dataframe tbody tr th:only-of-type {\n        vertical-align: middle;\n    }\n\n    .dataframe tbody tr th {\n        vertical-align: top;\n    }\n\n    .dataframe thead th {\n        text-align: right;\n    }\n</style>\n<table border=\"1\" class=\"dataframe\">\n  <thead>\n    <tr style=\"text-align: right;\">\n      <th></th>\n      <th>Population</th>\n      <th>Location</th>\n      <th>Country</th>\n      <th>Ranking</th>\n      <th>Asian</th>\n    </tr>\n  </thead>\n  <tbody>\n    <tr>\n      <th>one</th>\n      <td>10250000</td>\n      <td>Asia</td>\n      <td>Tajikistan</td>\n      <td>1.0</td>\n      <td>True</td>\n    </tr>\n    <tr>\n      <th>two</th>\n      <td>35450000</td>\n      <td>Asia</td>\n      <td>Uzbekistan</td>\n      <td>8.0</td>\n      <td>True</td>\n    </tr>\n    <tr>\n      <th>three</th>\n      <td>19730000</td>\n      <td>Asia</td>\n      <td>Turkmenistan</td>\n      <td>NaN</td>\n      <td>True</td>\n    </tr>\n    <tr>\n      <th>four</th>\n      <td>6000000</td>\n      <td>Asia</td>\n      <td>Kirgyztan</td>\n      <td>NaN</td>\n      <td>True</td>\n    </tr>\n    <tr>\n      <th>five</th>\n      <td>7000000</td>\n      <td>Europe</td>\n      <td>Kirgyztan</td>\n      <td>78.0</td>\n      <td>False</td>\n    </tr>\n    <tr>\n      <th>six</th>\n      <td>332000000</td>\n      <td>North America</td>\n      <td>U.S.A</td>\n      <td>15.0</td>\n      <td>False</td>\n    </tr>\n  </tbody>\n</table>\n</div>"
     },
     "execution_count": 38,
     "metadata": {},
     "output_type": "execute_result"
    }
   ],
   "source": [
    "df2['Asian'] = df2.Location == 'Asia'\n",
    "df2"
   ],
   "metadata": {
    "collapsed": false,
    "ExecuteTime": {
     "end_time": "2024-01-28T12:26:36.783438228Z",
     "start_time": "2024-01-28T12:26:34.838357284Z"
    }
   },
   "id": "136cf43cca8001d9"
  },
  {
   "cell_type": "markdown",
   "source": [
    "### The `del` method used to remove this column:"
   ],
   "metadata": {
    "collapsed": false
   },
   "id": "9f65b53aaf52b426"
  },
  {
   "cell_type": "code",
   "execution_count": 39,
   "outputs": [
    {
     "data": {
      "text/plain": "Index(['Population', 'Location', 'Country', 'Ranking'], dtype='object')"
     },
     "execution_count": 39,
     "metadata": {},
     "output_type": "execute_result"
    }
   ],
   "source": [
    "del df2['Asian']\n",
    "df2.columns"
   ],
   "metadata": {
    "collapsed": false,
    "ExecuteTime": {
     "end_time": "2024-01-28T12:26:36.806294900Z",
     "start_time": "2024-01-28T12:26:34.862778432Z"
    }
   },
   "id": "456f9337e907af88"
  },
  {
   "cell_type": "code",
   "execution_count": 40,
   "outputs": [
    {
     "data": {
      "text/plain": "      Tajikistan  Uzbekistan\n2001         2.4         1.7\n2002         2.9         3.6\n2000         NaN         1.5",
      "text/html": "<div>\n<style scoped>\n    .dataframe tbody tr th:only-of-type {\n        vertical-align: middle;\n    }\n\n    .dataframe tbody tr th {\n        vertical-align: top;\n    }\n\n    .dataframe thead th {\n        text-align: right;\n    }\n</style>\n<table border=\"1\" class=\"dataframe\">\n  <thead>\n    <tr style=\"text-align: right;\">\n      <th></th>\n      <th>Tajikistan</th>\n      <th>Uzbekistan</th>\n    </tr>\n  </thead>\n  <tbody>\n    <tr>\n      <th>2001</th>\n      <td>2.4</td>\n      <td>1.7</td>\n    </tr>\n    <tr>\n      <th>2002</th>\n      <td>2.9</td>\n      <td>3.6</td>\n    </tr>\n    <tr>\n      <th>2000</th>\n      <td>NaN</td>\n      <td>1.5</td>\n    </tr>\n  </tbody>\n</table>\n</div>"
     },
     "execution_count": 40,
     "metadata": {},
     "output_type": "execute_result"
    }
   ],
   "source": [
    "pop = {'Tajikistan': {2001: 2.4, 2002: 2.9},\n",
    "        'Uzbekistan': {2000: 1.5, 2001: 1.7, 2002: 3.6}}\n",
    "df3 = pd.DataFrame(pop)\n",
    "df3"
   ],
   "metadata": {
    "collapsed": false,
    "ExecuteTime": {
     "end_time": "2024-01-28T12:26:36.809070049Z",
     "start_time": "2024-01-28T12:26:34.914428121Z"
    }
   },
   "id": "720ae6e246eaf4bd"
  },
  {
   "cell_type": "markdown",
   "source": [
    "#### We can transpose the DataFrame (swap rows and columns) with similar syntax to a Numpy"
   ],
   "metadata": {
    "collapsed": false
   },
   "id": "3762dd227680bf29"
  },
  {
   "cell_type": "code",
   "execution_count": 41,
   "outputs": [
    {
     "data": {
      "text/plain": "            2001  2002  2000\nTajikistan   2.4   2.9   NaN\nUzbekistan   1.7   3.6   1.5",
      "text/html": "<div>\n<style scoped>\n    .dataframe tbody tr th:only-of-type {\n        vertical-align: middle;\n    }\n\n    .dataframe tbody tr th {\n        vertical-align: top;\n    }\n\n    .dataframe thead th {\n        text-align: right;\n    }\n</style>\n<table border=\"1\" class=\"dataframe\">\n  <thead>\n    <tr style=\"text-align: right;\">\n      <th></th>\n      <th>2001</th>\n      <th>2002</th>\n      <th>2000</th>\n    </tr>\n  </thead>\n  <tbody>\n    <tr>\n      <th>Tajikistan</th>\n      <td>2.4</td>\n      <td>2.9</td>\n      <td>NaN</td>\n    </tr>\n    <tr>\n      <th>Uzbekistan</th>\n      <td>1.7</td>\n      <td>3.6</td>\n      <td>1.5</td>\n    </tr>\n  </tbody>\n</table>\n</div>"
     },
     "execution_count": 41,
     "metadata": {},
     "output_type": "execute_result"
    }
   ],
   "source": [
    "df3.T"
   ],
   "metadata": {
    "collapsed": false,
    "ExecuteTime": {
     "end_time": "2024-01-28T12:26:36.832355833Z",
     "start_time": "2024-01-28T12:26:34.950236915Z"
    }
   },
   "id": "4171fa50ad66459d"
  },
  {
   "cell_type": "markdown",
   "source": [
    "#### We can use Series to create new DataFrame"
   ],
   "metadata": {
    "collapsed": false
   },
   "id": "8ab6c42907c54d74"
  },
  {
   "cell_type": "code",
   "execution_count": 42,
   "outputs": [
    {
     "data": {
      "text/plain": "      Tajikistan  Uzbekistan\n2001         2.4         1.7\n2002         2.9         3.6",
      "text/html": "<div>\n<style scoped>\n    .dataframe tbody tr th:only-of-type {\n        vertical-align: middle;\n    }\n\n    .dataframe tbody tr th {\n        vertical-align: top;\n    }\n\n    .dataframe thead th {\n        text-align: right;\n    }\n</style>\n<table border=\"1\" class=\"dataframe\">\n  <thead>\n    <tr style=\"text-align: right;\">\n      <th></th>\n      <th>Tajikistan</th>\n      <th>Uzbekistan</th>\n    </tr>\n  </thead>\n  <tbody>\n    <tr>\n      <th>2001</th>\n      <td>2.4</td>\n      <td>1.7</td>\n    </tr>\n    <tr>\n      <th>2002</th>\n      <td>2.9</td>\n      <td>3.6</td>\n    </tr>\n  </tbody>\n</table>\n</div>"
     },
     "execution_count": 42,
     "metadata": {},
     "output_type": "execute_result"
    }
   ],
   "source": [
    "data = {'Tajikistan': df3['Tajikistan'][:-1],\n",
    "        'Uzbekistan': df3['Uzbekistan'][:-1]}\n",
    "pd.DataFrame(data)"
   ],
   "metadata": {
    "collapsed": false,
    "ExecuteTime": {
     "end_time": "2024-01-28T12:26:36.860589034Z",
     "start_time": "2024-01-28T12:26:35.010269879Z"
    }
   },
   "id": "3d395860107078c"
  },
  {
   "cell_type": "code",
   "execution_count": 43,
   "outputs": [],
   "source": [
    "df3.index.name = 'year' \n",
    "df3.columns.name = 'Countries'"
   ],
   "metadata": {
    "collapsed": false,
    "ExecuteTime": {
     "end_time": "2024-01-28T12:26:36.873715623Z",
     "start_time": "2024-01-28T12:26:35.070050769Z"
    }
   },
   "id": "b634551937f2429c"
  },
  {
   "cell_type": "code",
   "execution_count": 44,
   "outputs": [
    {
     "data": {
      "text/plain": "Countries  Tajikistan  Uzbekistan\nyear                             \n2001              2.4         1.7\n2002              2.9         3.6\n2000              NaN         1.5",
      "text/html": "<div>\n<style scoped>\n    .dataframe tbody tr th:only-of-type {\n        vertical-align: middle;\n    }\n\n    .dataframe tbody tr th {\n        vertical-align: top;\n    }\n\n    .dataframe thead th {\n        text-align: right;\n    }\n</style>\n<table border=\"1\" class=\"dataframe\">\n  <thead>\n    <tr style=\"text-align: right;\">\n      <th>Countries</th>\n      <th>Tajikistan</th>\n      <th>Uzbekistan</th>\n    </tr>\n    <tr>\n      <th>year</th>\n      <th></th>\n      <th></th>\n    </tr>\n  </thead>\n  <tbody>\n    <tr>\n      <th>2001</th>\n      <td>2.4</td>\n      <td>1.7</td>\n    </tr>\n    <tr>\n      <th>2002</th>\n      <td>2.9</td>\n      <td>3.6</td>\n    </tr>\n    <tr>\n      <th>2000</th>\n      <td>NaN</td>\n      <td>1.5</td>\n    </tr>\n  </tbody>\n</table>\n</div>"
     },
     "execution_count": 44,
     "metadata": {},
     "output_type": "execute_result"
    }
   ],
   "source": [
    "df3"
   ],
   "metadata": {
    "collapsed": false,
    "ExecuteTime": {
     "end_time": "2024-01-28T12:26:36.878595993Z",
     "start_time": "2024-01-28T12:26:35.110377279Z"
    }
   },
   "id": "eef93239e1dd0d8"
  },
  {
   "cell_type": "code",
   "execution_count": 45,
   "outputs": [
    {
     "data": {
      "text/plain": "array([[2.4, 1.7],\n       [2.9, 3.6],\n       [nan, 1.5]])"
     },
     "execution_count": 45,
     "metadata": {},
     "output_type": "execute_result"
    }
   ],
   "source": [
    "df3.values"
   ],
   "metadata": {
    "collapsed": false,
    "ExecuteTime": {
     "end_time": "2024-01-28T12:26:36.894847739Z",
     "start_time": "2024-01-28T12:26:35.118220248Z"
    }
   },
   "id": "c0a2b7cc29a8f3fa"
  },
  {
   "cell_type": "markdown",
   "source": [
    "### There are some methods of Pandas Index"
   ],
   "metadata": {
    "collapsed": false
   },
   "id": "65cd0da3c033dfbc"
  },
  {
   "cell_type": "code",
   "execution_count": 46,
   "outputs": [
    {
     "name": "stdout",
     "output_type": "stream",
     "text": [
      "Index([2, 8, 6, 9, 8], dtype='int64')\n"
     ]
    },
    {
     "data": {
      "text/plain": "Index([1, 5, 6, 2], dtype='int64')"
     },
     "execution_count": 46,
     "metadata": {},
     "output_type": "execute_result"
    }
   ],
   "source": [
    "idx1 = pd.Index([2, 8, 6, 9, 8])\n",
    "idx2 = pd.Index([1, 5, 6, 2])\n",
    "print(idx1)\n",
    "idx2"
   ],
   "metadata": {
    "collapsed": false,
    "ExecuteTime": {
     "end_time": "2024-01-28T12:26:36.914353280Z",
     "start_time": "2024-01-28T12:26:35.168827143Z"
    }
   },
   "id": "213e90a3ab6f4deb"
  },
  {
   "cell_type": "code",
   "execution_count": 47,
   "outputs": [
    {
     "data": {
      "text/plain": "Index([8, 9], dtype='int64')"
     },
     "execution_count": 47,
     "metadata": {},
     "output_type": "execute_result"
    }
   ],
   "source": [
    "idx1.difference(idx2) # -> returns the difference of value from second Index"
   ],
   "metadata": {
    "collapsed": false,
    "ExecuteTime": {
     "end_time": "2024-01-28T12:26:36.927718953Z",
     "start_time": "2024-01-28T12:26:35.351220020Z"
    }
   },
   "id": "6e54adf0ba529511"
  },
  {
   "cell_type": "code",
   "execution_count": 48,
   "outputs": [
    {
     "data": {
      "text/plain": "Index([2, 8, 6, 9, 8, 1, 5, 6, 2], dtype='int64')"
     },
     "execution_count": 48,
     "metadata": {},
     "output_type": "execute_result"
    }
   ],
   "source": [
    "idx1.append(idx2) # -> adds value or values at the end of Index"
   ],
   "metadata": {
    "collapsed": false,
    "ExecuteTime": {
     "end_time": "2024-01-28T12:26:37.216983384Z",
     "start_time": "2024-01-28T12:26:35.374371626Z"
    }
   },
   "id": "ae32c315ef58f22b"
  },
  {
   "cell_type": "code",
   "execution_count": 49,
   "outputs": [
    {
     "data": {
      "text/plain": "Index([2, 6], dtype='int64')"
     },
     "execution_count": 49,
     "metadata": {},
     "output_type": "execute_result"
    }
   ],
   "source": [
    "idx1.intersection(idx2) # -> returns the general values"
   ],
   "metadata": {
    "collapsed": false,
    "ExecuteTime": {
     "end_time": "2024-01-28T12:26:37.228236270Z",
     "start_time": "2024-01-28T12:26:35.401861150Z"
    }
   },
   "id": "c980516a621b687d"
  },
  {
   "cell_type": "code",
   "execution_count": 50,
   "outputs": [
    {
     "data": {
      "text/plain": "Index([1, 2, 5, 6, 8, 8, 9], dtype='int64')"
     },
     "execution_count": 50,
     "metadata": {},
     "output_type": "execute_result"
    }
   ],
   "source": [
    "idx1.union(idx2) # -> returns non general values"
   ],
   "metadata": {
    "collapsed": false,
    "ExecuteTime": {
     "end_time": "2024-01-28T12:26:37.239994281Z",
     "start_time": "2024-01-28T12:26:35.411634382Z"
    }
   },
   "id": "fb0542fce3c3249"
  },
  {
   "cell_type": "code",
   "execution_count": 51,
   "outputs": [
    {
     "data": {
      "text/plain": "array([ True, False,  True, False, False])"
     },
     "execution_count": 51,
     "metadata": {},
     "output_type": "execute_result"
    }
   ],
   "source": [
    "idx1.isin(idx2) # -> checks the given values in another index and returns bool"
   ],
   "metadata": {
    "collapsed": false,
    "ExecuteTime": {
     "end_time": "2024-01-28T12:26:37.248491454Z",
     "start_time": "2024-01-28T12:26:35.422717839Z"
    }
   },
   "id": "cb50d284ea73f96b"
  },
  {
   "cell_type": "code",
   "execution_count": 52,
   "outputs": [
    {
     "data": {
      "text/plain": "Index([2, 6, 9, 8], dtype='int64')"
     },
     "execution_count": 52,
     "metadata": {},
     "output_type": "execute_result"
    }
   ],
   "source": [
    "idx1.delete(1) # -> removes item by its index"
   ],
   "metadata": {
    "collapsed": false,
    "ExecuteTime": {
     "end_time": "2024-01-28T12:26:37.260084704Z",
     "start_time": "2024-01-28T12:26:35.432158172Z"
    }
   },
   "id": "50b456c11c3e7a3a"
  },
  {
   "cell_type": "code",
   "execution_count": 53,
   "outputs": [
    {
     "data": {
      "text/plain": "Index([1, 5, 2], dtype='int64')"
     },
     "execution_count": 53,
     "metadata": {},
     "output_type": "execute_result"
    }
   ],
   "source": [
    "idx2.drop(6) # -> removes item in Index by value"
   ],
   "metadata": {
    "collapsed": false,
    "ExecuteTime": {
     "end_time": "2024-01-28T12:26:37.270906333Z",
     "start_time": "2024-01-28T12:26:35.441642073Z"
    }
   },
   "id": "df9e8533874e7544"
  },
  {
   "cell_type": "code",
   "execution_count": 54,
   "outputs": [
    {
     "data": {
      "text/plain": "Index([2, 8, 18, 6, 9, 8], dtype='int64')"
     },
     "execution_count": 54,
     "metadata": {},
     "output_type": "execute_result"
    }
   ],
   "source": [
    "idx1.insert(2, 18) # -> adds value with index"
   ],
   "metadata": {
    "collapsed": false,
    "ExecuteTime": {
     "end_time": "2024-01-28T12:26:37.282554306Z",
     "start_time": "2024-01-28T12:26:35.461598654Z"
    }
   },
   "id": "2461e103ef52a687"
  },
  {
   "cell_type": "code",
   "execution_count": 55,
   "outputs": [
    {
     "data": {
      "text/plain": "False"
     },
     "execution_count": 55,
     "metadata": {},
     "output_type": "execute_result"
    }
   ],
   "source": [
    "idx1.is_unique # -> checks values for uniqueness and returns bool"
   ],
   "metadata": {
    "collapsed": false,
    "ExecuteTime": {
     "end_time": "2024-01-28T12:26:37.297596502Z",
     "start_time": "2024-01-28T12:26:35.482885760Z"
    }
   },
   "id": "24fcb268befb98e2"
  },
  {
   "cell_type": "code",
   "execution_count": 56,
   "outputs": [
    {
     "data": {
      "text/plain": "Index([2, 8, 6, 9], dtype='int64')"
     },
     "execution_count": 56,
     "metadata": {},
     "output_type": "execute_result"
    }
   ],
   "source": [
    "idx1.unique() # -> returns unique version of Index"
   ],
   "metadata": {
    "collapsed": false,
    "ExecuteTime": {
     "end_time": "2024-01-28T12:26:37.310795857Z",
     "start_time": "2024-01-28T12:26:35.529694557Z"
    }
   },
   "id": "5933a6d04719253a"
  },
  {
   "cell_type": "markdown",
   "source": [
    "### Reindexing"
   ],
   "metadata": {
    "collapsed": false
   },
   "id": "9cfbe91c2e0ba1a7"
  },
  {
   "cell_type": "code",
   "execution_count": 59,
   "outputs": [
    {
     "data": {
      "text/plain": "a    0\nb    1\nc    2\nd    3\ndtype: int64"
     },
     "execution_count": 59,
     "metadata": {},
     "output_type": "execute_result"
    }
   ],
   "source": [
    "obj = pd.Series(np.arange(4), index=['a', 'b', 'c', 'd'])\n",
    "obj"
   ],
   "metadata": {
    "collapsed": false,
    "ExecuteTime": {
     "end_time": "2024-01-28T12:29:18.365703549Z",
     "start_time": "2024-01-28T12:29:18.341215790Z"
    }
   },
   "id": "ef928063ea9e7fde"
  },
  {
   "cell_type": "code",
   "execution_count": 60,
   "outputs": [
    {
     "data": {
      "text/plain": "e    NaN\nd    3.0\nc    2.0\nb    1.0\na    0.0\ndtype: float64"
     },
     "execution_count": 60,
     "metadata": {},
     "output_type": "execute_result"
    }
   ],
   "source": [
    "obj2 = obj.reindex(['e', 'd', 'c', 'b', 'a'])\n",
    "obj2"
   ],
   "metadata": {
    "collapsed": false,
    "ExecuteTime": {
     "end_time": "2024-01-28T12:29:19.778435172Z",
     "start_time": "2024-01-28T12:29:19.751014804Z"
    }
   },
   "id": "27f90431275875c6"
  },
  {
   "cell_type": "markdown",
   "source": [
    "#### For ordered data like time series, it may be desirable to do some interpolation or filling of values when reindexing. The method option allows us to do this, using method such as ffill, which forward-fills the values:"
   ],
   "metadata": {
    "collapsed": false
   },
   "id": "9ee7802fb3882826"
  },
  {
   "cell_type": "code",
   "execution_count": 62,
   "outputs": [
    {
     "data": {
      "text/plain": "0     apple\n2    banana\n4    cherry\ndtype: object"
     },
     "execution_count": 62,
     "metadata": {},
     "output_type": "execute_result"
    }
   ],
   "source": [
    "obj3 = pd.Series(['apple', 'banana', 'cherry'], index=[0, 2, 4])\n",
    "obj3"
   ],
   "metadata": {
    "collapsed": false,
    "ExecuteTime": {
     "end_time": "2024-01-28T12:33:48.944894873Z",
     "start_time": "2024-01-28T12:33:48.915148700Z"
    }
   },
   "id": "63909253a56ce101"
  },
  {
   "cell_type": "code",
   "execution_count": 63,
   "outputs": [
    {
     "data": {
      "text/plain": "0     apple\n1     apple\n2    banana\n3    banana\n4    cherry\n5    cherry\ndtype: object"
     },
     "execution_count": 63,
     "metadata": {},
     "output_type": "execute_result"
    }
   ],
   "source": [
    "obj3.reindex(np.arange(6), method='ffill')"
   ],
   "metadata": {
    "collapsed": false,
    "ExecuteTime": {
     "end_time": "2024-01-28T12:34:31.223926150Z",
     "start_time": "2024-01-28T12:34:31.204974862Z"
    }
   },
   "id": "e8611f88cf6eeaef"
  },
  {
   "cell_type": "code",
   "execution_count": 64,
   "outputs": [
    {
     "data": {
      "text/plain": "   Apple  Banana  Cherry\na      0       1       2\nb      3       4       5\nc      6       7       8",
      "text/html": "<div>\n<style scoped>\n    .dataframe tbody tr th:only-of-type {\n        vertical-align: middle;\n    }\n\n    .dataframe tbody tr th {\n        vertical-align: top;\n    }\n\n    .dataframe thead th {\n        text-align: right;\n    }\n</style>\n<table border=\"1\" class=\"dataframe\">\n  <thead>\n    <tr style=\"text-align: right;\">\n      <th></th>\n      <th>Apple</th>\n      <th>Banana</th>\n      <th>Cherry</th>\n    </tr>\n  </thead>\n  <tbody>\n    <tr>\n      <th>a</th>\n      <td>0</td>\n      <td>1</td>\n      <td>2</td>\n    </tr>\n    <tr>\n      <th>b</th>\n      <td>3</td>\n      <td>4</td>\n      <td>5</td>\n    </tr>\n    <tr>\n      <th>c</th>\n      <td>6</td>\n      <td>7</td>\n      <td>8</td>\n    </tr>\n  </tbody>\n</table>\n</div>"
     },
     "execution_count": 64,
     "metadata": {},
     "output_type": "execute_result"
    }
   ],
   "source": [
    "df = pd.DataFrame(np.arange(9).reshape(3, 3),\n",
    "                  index=['a', 'b', 'c'],\n",
    "                  columns=['Apple', 'Banana', 'Cherry'])\n",
    "df"
   ],
   "metadata": {
    "collapsed": false,
    "ExecuteTime": {
     "end_time": "2024-01-28T12:36:16.189881759Z",
     "start_time": "2024-01-28T12:36:16.170103843Z"
    }
   },
   "id": "9424699b456392a6"
  },
  {
   "cell_type": "code",
   "execution_count": 65,
   "outputs": [
    {
     "data": {
      "text/plain": "   Apple  Banana  Cherry\na    0.0     1.0     2.0\nb    3.0     4.0     5.0\nc    6.0     7.0     8.0\nd    NaN     NaN     NaN",
      "text/html": "<div>\n<style scoped>\n    .dataframe tbody tr th:only-of-type {\n        vertical-align: middle;\n    }\n\n    .dataframe tbody tr th {\n        vertical-align: top;\n    }\n\n    .dataframe thead th {\n        text-align: right;\n    }\n</style>\n<table border=\"1\" class=\"dataframe\">\n  <thead>\n    <tr style=\"text-align: right;\">\n      <th></th>\n      <th>Apple</th>\n      <th>Banana</th>\n      <th>Cherry</th>\n    </tr>\n  </thead>\n  <tbody>\n    <tr>\n      <th>a</th>\n      <td>0.0</td>\n      <td>1.0</td>\n      <td>2.0</td>\n    </tr>\n    <tr>\n      <th>b</th>\n      <td>3.0</td>\n      <td>4.0</td>\n      <td>5.0</td>\n    </tr>\n    <tr>\n      <th>c</th>\n      <td>6.0</td>\n      <td>7.0</td>\n      <td>8.0</td>\n    </tr>\n    <tr>\n      <th>d</th>\n      <td>NaN</td>\n      <td>NaN</td>\n      <td>NaN</td>\n    </tr>\n  </tbody>\n</table>\n</div>"
     },
     "execution_count": 65,
     "metadata": {},
     "output_type": "execute_result"
    }
   ],
   "source": [
    "df.reindex(['a', 'b', 'c', 'd'])"
   ],
   "metadata": {
    "collapsed": false,
    "ExecuteTime": {
     "end_time": "2024-01-28T12:37:19.296412651Z",
     "start_time": "2024-01-28T12:37:19.274170374Z"
    }
   },
   "id": "88a7a9be54aa2d91"
  },
  {
   "cell_type": "code",
   "execution_count": 68,
   "outputs": [
    {
     "data": {
      "text/plain": "   Apple  mango  Banana\na      0    NaN       1\nb      3    NaN       4\nc      6    NaN       7",
      "text/html": "<div>\n<style scoped>\n    .dataframe tbody tr th:only-of-type {\n        vertical-align: middle;\n    }\n\n    .dataframe tbody tr th {\n        vertical-align: top;\n    }\n\n    .dataframe thead th {\n        text-align: right;\n    }\n</style>\n<table border=\"1\" class=\"dataframe\">\n  <thead>\n    <tr style=\"text-align: right;\">\n      <th></th>\n      <th>Apple</th>\n      <th>mango</th>\n      <th>Banana</th>\n    </tr>\n  </thead>\n  <tbody>\n    <tr>\n      <th>a</th>\n      <td>0</td>\n      <td>NaN</td>\n      <td>1</td>\n    </tr>\n    <tr>\n      <th>b</th>\n      <td>3</td>\n      <td>NaN</td>\n      <td>4</td>\n    </tr>\n    <tr>\n      <th>c</th>\n      <td>6</td>\n      <td>NaN</td>\n      <td>7</td>\n    </tr>\n  </tbody>\n</table>\n</div>"
     },
     "execution_count": 68,
     "metadata": {},
     "output_type": "execute_result"
    }
   ],
   "source": [
    "fruits = ['Apple', 'mango', 'Banana']\n",
    "df.reindex(columns=fruits)"
   ],
   "metadata": {
    "collapsed": false,
    "ExecuteTime": {
     "end_time": "2024-01-28T12:38:43.015415698Z",
     "start_time": "2024-01-28T12:38:42.938674757Z"
    }
   },
   "id": "eeb3cfe320d05da4"
  },
  {
   "cell_type": "markdown",
   "source": [
    "#### We can reindex more succinctly by label-indexing with loc"
   ],
   "metadata": {
    "collapsed": false
   },
   "id": "74047443e3b5a13f"
  },
  {
   "cell_type": "code",
   "execution_count": 78,
   "outputs": [
    {
     "data": {
      "text/plain": "   Apple  Banana  Cherry\na      0       1       2\nc      6       7       8\nb      3       4       5",
      "text/html": "<div>\n<style scoped>\n    .dataframe tbody tr th:only-of-type {\n        vertical-align: middle;\n    }\n\n    .dataframe tbody tr th {\n        vertical-align: top;\n    }\n\n    .dataframe thead th {\n        text-align: right;\n    }\n</style>\n<table border=\"1\" class=\"dataframe\">\n  <thead>\n    <tr style=\"text-align: right;\">\n      <th></th>\n      <th>Apple</th>\n      <th>Banana</th>\n      <th>Cherry</th>\n    </tr>\n  </thead>\n  <tbody>\n    <tr>\n      <th>a</th>\n      <td>0</td>\n      <td>1</td>\n      <td>2</td>\n    </tr>\n    <tr>\n      <th>c</th>\n      <td>6</td>\n      <td>7</td>\n      <td>8</td>\n    </tr>\n    <tr>\n      <th>b</th>\n      <td>3</td>\n      <td>4</td>\n      <td>5</td>\n    </tr>\n  </tbody>\n</table>\n</div>"
     },
     "execution_count": 78,
     "metadata": {},
     "output_type": "execute_result"
    }
   ],
   "source": [
    "df.loc[['a', 'c', 'b']]"
   ],
   "metadata": {
    "collapsed": false,
    "ExecuteTime": {
     "end_time": "2024-01-28T12:48:05.811568864Z",
     "start_time": "2024-01-28T12:48:05.722360465Z"
    }
   },
   "id": "9af2bf1d7789c560"
  },
  {
   "cell_type": "markdown",
   "source": [
    "## Reindex function argumets"
   ],
   "metadata": {
    "collapsed": false
   },
   "id": "125816e3038b30d4"
  },
  {
   "cell_type": "code",
   "execution_count": 79,
   "outputs": [
    {
     "data": {
      "text/plain": "           http_status  response_time\nFirefox            200           0.04\nChrome             200           0.02\nSafari             404           0.07\nIE10               404           0.08\nKonqueror          301           1.00",
      "text/html": "<div>\n<style scoped>\n    .dataframe tbody tr th:only-of-type {\n        vertical-align: middle;\n    }\n\n    .dataframe tbody tr th {\n        vertical-align: top;\n    }\n\n    .dataframe thead th {\n        text-align: right;\n    }\n</style>\n<table border=\"1\" class=\"dataframe\">\n  <thead>\n    <tr style=\"text-align: right;\">\n      <th></th>\n      <th>http_status</th>\n      <th>response_time</th>\n    </tr>\n  </thead>\n  <tbody>\n    <tr>\n      <th>Firefox</th>\n      <td>200</td>\n      <td>0.04</td>\n    </tr>\n    <tr>\n      <th>Chrome</th>\n      <td>200</td>\n      <td>0.02</td>\n    </tr>\n    <tr>\n      <th>Safari</th>\n      <td>404</td>\n      <td>0.07</td>\n    </tr>\n    <tr>\n      <th>IE10</th>\n      <td>404</td>\n      <td>0.08</td>\n    </tr>\n    <tr>\n      <th>Konqueror</th>\n      <td>301</td>\n      <td>1.00</td>\n    </tr>\n  </tbody>\n</table>\n</div>"
     },
     "execution_count": 79,
     "metadata": {},
     "output_type": "execute_result"
    }
   ],
   "source": [
    "index = ['Firefox', 'Chrome', 'Safari', 'IE10', 'Konqueror']\n",
    "df = pd.DataFrame({'http_status': [200, 200, 404, 404, 301],\n",
    "                  'response_time': [0.04, 0.02, 0.07, 0.08, 1.0]},\n",
    "                  index=index)\n",
    "df"
   ],
   "metadata": {
    "collapsed": false,
    "ExecuteTime": {
     "end_time": "2024-01-28T12:50:56.079272516Z",
     "start_time": "2024-01-28T12:50:56.029567573Z"
    }
   },
   "id": "6442f99a0ca3c2ec"
  },
  {
   "cell_type": "code",
   "execution_count": 81,
   "outputs": [
    {
     "data": {
      "text/plain": "        http_status  response_time\nSafari        404.0           0.07\nIE10          404.0           0.08\nBrave           NaN            NaN\nOpera           NaN            NaN",
      "text/html": "<div>\n<style scoped>\n    .dataframe tbody tr th:only-of-type {\n        vertical-align: middle;\n    }\n\n    .dataframe tbody tr th {\n        vertical-align: top;\n    }\n\n    .dataframe thead th {\n        text-align: right;\n    }\n</style>\n<table border=\"1\" class=\"dataframe\">\n  <thead>\n    <tr style=\"text-align: right;\">\n      <th></th>\n      <th>http_status</th>\n      <th>response_time</th>\n    </tr>\n  </thead>\n  <tbody>\n    <tr>\n      <th>Safari</th>\n      <td>404.0</td>\n      <td>0.07</td>\n    </tr>\n    <tr>\n      <th>IE10</th>\n      <td>404.0</td>\n      <td>0.08</td>\n    </tr>\n    <tr>\n      <th>Brave</th>\n      <td>NaN</td>\n      <td>NaN</td>\n    </tr>\n    <tr>\n      <th>Opera</th>\n      <td>NaN</td>\n      <td>NaN</td>\n    </tr>\n  </tbody>\n</table>\n</div>"
     },
     "execution_count": 81,
     "metadata": {},
     "output_type": "execute_result"
    }
   ],
   "source": [
    "new_index = ['Safari', 'IE10', 'Brave', 'Opera']\n",
    "df.reindex(index=new_index) # -> index"
   ],
   "metadata": {
    "collapsed": false,
    "ExecuteTime": {
     "end_time": "2024-01-28T12:52:46.610603754Z",
     "start_time": "2024-01-28T12:52:46.594131623Z"
    }
   },
   "id": "56e15fb81ef6806c"
  },
  {
   "cell_type": "markdown",
   "source": [
    "### _fill_value_: puts the given value as value of unfounded index"
   ],
   "metadata": {
    "collapsed": false
   },
   "id": "500e45c7aa82b0dc"
  },
  {
   "cell_type": "code",
   "execution_count": 83,
   "outputs": [
    {
     "data": {
      "text/plain": "        http_status  response_time\nSafari          404           0.07\nIE10            404           0.08\nBrave             0           0.00\nOpera             0           0.00",
      "text/html": "<div>\n<style scoped>\n    .dataframe tbody tr th:only-of-type {\n        vertical-align: middle;\n    }\n\n    .dataframe tbody tr th {\n        vertical-align: top;\n    }\n\n    .dataframe thead th {\n        text-align: right;\n    }\n</style>\n<table border=\"1\" class=\"dataframe\">\n  <thead>\n    <tr style=\"text-align: right;\">\n      <th></th>\n      <th>http_status</th>\n      <th>response_time</th>\n    </tr>\n  </thead>\n  <tbody>\n    <tr>\n      <th>Safari</th>\n      <td>404</td>\n      <td>0.07</td>\n    </tr>\n    <tr>\n      <th>IE10</th>\n      <td>404</td>\n      <td>0.08</td>\n    </tr>\n    <tr>\n      <th>Brave</th>\n      <td>0</td>\n      <td>0.00</td>\n    </tr>\n    <tr>\n      <th>Opera</th>\n      <td>0</td>\n      <td>0.00</td>\n    </tr>\n  </tbody>\n</table>\n</div>"
     },
     "execution_count": 83,
     "metadata": {},
     "output_type": "execute_result"
    }
   ],
   "source": [
    "df.reindex(index=new_index, fill_value=0) "
   ],
   "metadata": {
    "collapsed": false,
    "ExecuteTime": {
     "end_time": "2024-01-28T12:55:07.299415149Z",
     "start_time": "2024-01-28T12:55:07.256241541Z"
    }
   },
   "id": "69ec13e36cba0e88"
  },
  {
   "cell_type": "code",
   "execution_count": 85,
   "outputs": [
    {
     "data": {
      "text/plain": "       http_status response_time\nSafari         404          0.07\nIE10           404          0.08\nBrave       Missed        Missed\nOpera       Missed        Missed",
      "text/html": "<div>\n<style scoped>\n    .dataframe tbody tr th:only-of-type {\n        vertical-align: middle;\n    }\n\n    .dataframe tbody tr th {\n        vertical-align: top;\n    }\n\n    .dataframe thead th {\n        text-align: right;\n    }\n</style>\n<table border=\"1\" class=\"dataframe\">\n  <thead>\n    <tr style=\"text-align: right;\">\n      <th></th>\n      <th>http_status</th>\n      <th>response_time</th>\n    </tr>\n  </thead>\n  <tbody>\n    <tr>\n      <th>Safari</th>\n      <td>404</td>\n      <td>0.07</td>\n    </tr>\n    <tr>\n      <th>IE10</th>\n      <td>404</td>\n      <td>0.08</td>\n    </tr>\n    <tr>\n      <th>Brave</th>\n      <td>Missed</td>\n      <td>Missed</td>\n    </tr>\n    <tr>\n      <th>Opera</th>\n      <td>Missed</td>\n      <td>Missed</td>\n    </tr>\n  </tbody>\n</table>\n</div>"
     },
     "execution_count": 85,
     "metadata": {},
     "output_type": "execute_result"
    }
   ],
   "source": [
    "df.reindex(new_index, fill_value='Missed')"
   ],
   "metadata": {
    "collapsed": false,
    "ExecuteTime": {
     "end_time": "2024-01-28T12:57:01.057931585Z",
     "start_time": "2024-01-28T12:57:01.028545899Z"
    }
   },
   "id": "3c71f797b7a8237e"
  },
  {
   "cell_type": "markdown",
   "source": [
    "## Indexing, Selection and Filtering"
   ],
   "metadata": {
    "collapsed": false
   },
   "id": "c795eafabfa5997f"
  },
  {
   "cell_type": "code",
   "execution_count": 88,
   "outputs": [
    {
     "data": {
      "text/plain": "a    0.0\nb    1.0\nc    2.0\nd    3.0\ndtype: float64"
     },
     "execution_count": 88,
     "metadata": {},
     "output_type": "execute_result"
    }
   ],
   "source": [
    "obj = pd.Series(np.arange(4.), index=['a', 'b', 'c', 'd'])\n",
    "obj"
   ],
   "metadata": {
    "collapsed": false,
    "ExecuteTime": {
     "end_time": "2024-01-28T13:41:26.299496066Z",
     "start_time": "2024-01-28T13:41:26.276628660Z"
    }
   },
   "id": "ccc2b487900c2e11"
  },
  {
   "cell_type": "code",
   "execution_count": 90,
   "outputs": [
    {
     "data": {
      "text/plain": "1.0"
     },
     "execution_count": 90,
     "metadata": {},
     "output_type": "execute_result"
    }
   ],
   "source": [
    "obj['b']"
   ],
   "metadata": {
    "collapsed": false,
    "ExecuteTime": {
     "end_time": "2024-01-28T13:41:42.754813015Z",
     "start_time": "2024-01-28T13:41:42.710331562Z"
    }
   },
   "id": "b9388f7babecc801"
  },
  {
   "cell_type": "code",
   "execution_count": 91,
   "outputs": [
    {
     "data": {
      "text/plain": "c    2.0\nd    3.0\ndtype: float64"
     },
     "execution_count": 91,
     "metadata": {},
     "output_type": "execute_result"
    }
   ],
   "source": [
    "obj[2:4]"
   ],
   "metadata": {
    "collapsed": false,
    "ExecuteTime": {
     "end_time": "2024-01-28T13:41:51.209003650Z",
     "start_time": "2024-01-28T13:41:51.193765812Z"
    }
   },
   "id": "8514cebd7b9f80d8"
  },
  {
   "cell_type": "code",
   "execution_count": 92,
   "outputs": [
    {
     "data": {
      "text/plain": "b    1.0\na    0.0\nd    3.0\ndtype: float64"
     },
     "execution_count": 92,
     "metadata": {},
     "output_type": "execute_result"
    }
   ],
   "source": [
    "obj[['b', 'a', 'd']]"
   ],
   "metadata": {
    "collapsed": false,
    "ExecuteTime": {
     "end_time": "2024-01-28T13:42:10.155357811Z",
     "start_time": "2024-01-28T13:42:10.140555508Z"
    }
   },
   "id": "8afa2e3e91e88651"
  },
  {
   "cell_type": "code",
   "execution_count": 96,
   "outputs": [
    {
     "name": "stderr",
     "output_type": "stream",
     "text": [
      "/tmp/ipykernel_20019/4102577471.py:1: FutureWarning: Series.__getitem__ treating keys as positions is deprecated. In a future version, integer keys will always be treated as labels (consistent with DataFrame behavior). To access a value by position, use `ser.iloc[pos]`\n",
      "  obj[[1, 3]]\n"
     ]
    },
    {
     "data": {
      "text/plain": "b    1.0\nd    3.0\ndtype: float64"
     },
     "execution_count": 96,
     "metadata": {},
     "output_type": "execute_result"
    }
   ],
   "source": [
    "obj[[1, 3]]"
   ],
   "metadata": {
    "collapsed": false,
    "ExecuteTime": {
     "end_time": "2024-01-28T13:42:39.406739688Z",
     "start_time": "2024-01-28T13:42:39.390193214Z"
    }
   },
   "id": "49afc42f5df0ce6c"
  },
  {
   "cell_type": "code",
   "execution_count": 98,
   "outputs": [
    {
     "data": {
      "text/plain": "a    0.0\nb    1.0\ndtype: float64"
     },
     "execution_count": 98,
     "metadata": {},
     "output_type": "execute_result"
    }
   ],
   "source": [
    "obj[obj < 2]"
   ],
   "metadata": {
    "collapsed": false,
    "ExecuteTime": {
     "end_time": "2024-01-28T13:43:18.258400702Z",
     "start_time": "2024-01-28T13:43:18.216264187Z"
    }
   },
   "id": "8bc71c19a6522d35"
  },
  {
   "cell_type": "code",
   "execution_count": 99,
   "outputs": [
    {
     "data": {
      "text/plain": "b    1.0\nc    2.0\ndtype: float64"
     },
     "execution_count": 99,
     "metadata": {},
     "output_type": "execute_result"
    }
   ],
   "source": [
    "obj['b':'c']"
   ],
   "metadata": {
    "collapsed": false,
    "ExecuteTime": {
     "end_time": "2024-01-28T13:43:30.610978852Z",
     "start_time": "2024-01-28T13:43:30.565830938Z"
    }
   },
   "id": "f08ee75289fd943"
  },
  {
   "cell_type": "code",
   "execution_count": 101,
   "outputs": [
    {
     "data": {
      "text/plain": "a     0.0\nb    10.0\nc    10.0\nd     3.0\ndtype: float64"
     },
     "execution_count": 101,
     "metadata": {},
     "output_type": "execute_result"
    }
   ],
   "source": [
    "obj['b':'c'] = 10\n",
    "obj"
   ],
   "metadata": {
    "collapsed": false,
    "ExecuteTime": {
     "end_time": "2024-01-28T13:44:02.911467979Z",
     "start_time": "2024-01-28T13:44:02.894937402Z"
    }
   },
   "id": "c1bab80241c94764"
  },
  {
   "cell_type": "code",
   "execution_count": 104,
   "outputs": [
    {
     "data": {
      "text/plain": "          one  two  three  four\nOhio        0    1      2     3\nColorado    4    5      6     7\nUtah        8    9     10    11\nNew York   12   13     14    15",
      "text/html": "<div>\n<style scoped>\n    .dataframe tbody tr th:only-of-type {\n        vertical-align: middle;\n    }\n\n    .dataframe tbody tr th {\n        vertical-align: top;\n    }\n\n    .dataframe thead th {\n        text-align: right;\n    }\n</style>\n<table border=\"1\" class=\"dataframe\">\n  <thead>\n    <tr style=\"text-align: right;\">\n      <th></th>\n      <th>one</th>\n      <th>two</th>\n      <th>three</th>\n      <th>four</th>\n    </tr>\n  </thead>\n  <tbody>\n    <tr>\n      <th>Ohio</th>\n      <td>0</td>\n      <td>1</td>\n      <td>2</td>\n      <td>3</td>\n    </tr>\n    <tr>\n      <th>Colorado</th>\n      <td>4</td>\n      <td>5</td>\n      <td>6</td>\n      <td>7</td>\n    </tr>\n    <tr>\n      <th>Utah</th>\n      <td>8</td>\n      <td>9</td>\n      <td>10</td>\n      <td>11</td>\n    </tr>\n    <tr>\n      <th>New York</th>\n      <td>12</td>\n      <td>13</td>\n      <td>14</td>\n      <td>15</td>\n    </tr>\n  </tbody>\n</table>\n</div>"
     },
     "execution_count": 104,
     "metadata": {},
     "output_type": "execute_result"
    }
   ],
   "source": [
    "data = pd.DataFrame(np.arange(16).reshape((4, 4)),\n",
    "                    index=['Ohio', 'Colorado', 'Utah', 'New York'],\n",
    "                    columns=['one', 'two', 'three', 'four'])\n",
    "data"
   ],
   "metadata": {
    "collapsed": false,
    "ExecuteTime": {
     "end_time": "2024-01-28T13:45:24.499459161Z",
     "start_time": "2024-01-28T13:45:24.453245551Z"
    }
   },
   "id": "daafbd1947c94eae"
  },
  {
   "cell_type": "code",
   "execution_count": 105,
   "outputs": [
    {
     "data": {
      "text/plain": "Ohio         1\nColorado     5\nUtah         9\nNew York    13\nName: two, dtype: int64"
     },
     "execution_count": 105,
     "metadata": {},
     "output_type": "execute_result"
    }
   ],
   "source": [
    "data['two']"
   ],
   "metadata": {
    "collapsed": false,
    "ExecuteTime": {
     "end_time": "2024-01-28T13:45:33.264688251Z",
     "start_time": "2024-01-28T13:45:33.215647288Z"
    }
   },
   "id": "bed2568a158ff73d"
  },
  {
   "cell_type": "code",
   "execution_count": 106,
   "outputs": [
    {
     "data": {
      "text/plain": "          three  one\nOhio          2    0\nColorado      6    4\nUtah         10    8\nNew York     14   12",
      "text/html": "<div>\n<style scoped>\n    .dataframe tbody tr th:only-of-type {\n        vertical-align: middle;\n    }\n\n    .dataframe tbody tr th {\n        vertical-align: top;\n    }\n\n    .dataframe thead th {\n        text-align: right;\n    }\n</style>\n<table border=\"1\" class=\"dataframe\">\n  <thead>\n    <tr style=\"text-align: right;\">\n      <th></th>\n      <th>three</th>\n      <th>one</th>\n    </tr>\n  </thead>\n  <tbody>\n    <tr>\n      <th>Ohio</th>\n      <td>2</td>\n      <td>0</td>\n    </tr>\n    <tr>\n      <th>Colorado</th>\n      <td>6</td>\n      <td>4</td>\n    </tr>\n    <tr>\n      <th>Utah</th>\n      <td>10</td>\n      <td>8</td>\n    </tr>\n    <tr>\n      <th>New York</th>\n      <td>14</td>\n      <td>12</td>\n    </tr>\n  </tbody>\n</table>\n</div>"
     },
     "execution_count": 106,
     "metadata": {},
     "output_type": "execute_result"
    }
   ],
   "source": [
    "data[['three', 'one']]"
   ],
   "metadata": {
    "collapsed": false,
    "ExecuteTime": {
     "end_time": "2024-01-28T13:45:59.296397226Z",
     "start_time": "2024-01-28T13:45:59.215167007Z"
    }
   },
   "id": "466c747fe1b559d3"
  },
  {
   "cell_type": "code",
   "execution_count": 107,
   "outputs": [
    {
     "data": {
      "text/plain": "          one  two  three  four\nOhio        0    1      2     3\nColorado    4    5      6     7",
      "text/html": "<div>\n<style scoped>\n    .dataframe tbody tr th:only-of-type {\n        vertical-align: middle;\n    }\n\n    .dataframe tbody tr th {\n        vertical-align: top;\n    }\n\n    .dataframe thead th {\n        text-align: right;\n    }\n</style>\n<table border=\"1\" class=\"dataframe\">\n  <thead>\n    <tr style=\"text-align: right;\">\n      <th></th>\n      <th>one</th>\n      <th>two</th>\n      <th>three</th>\n      <th>four</th>\n    </tr>\n  </thead>\n  <tbody>\n    <tr>\n      <th>Ohio</th>\n      <td>0</td>\n      <td>1</td>\n      <td>2</td>\n      <td>3</td>\n    </tr>\n    <tr>\n      <th>Colorado</th>\n      <td>4</td>\n      <td>5</td>\n      <td>6</td>\n      <td>7</td>\n    </tr>\n  </tbody>\n</table>\n</div>"
     },
     "execution_count": 107,
     "metadata": {},
     "output_type": "execute_result"
    }
   ],
   "source": [
    "data[:2]"
   ],
   "metadata": {
    "collapsed": false,
    "ExecuteTime": {
     "end_time": "2024-01-28T13:46:14.058773502Z",
     "start_time": "2024-01-28T13:46:13.976979654Z"
    }
   },
   "id": "1189e7653be4d24d"
  },
  {
   "cell_type": "code",
   "execution_count": 108,
   "outputs": [
    {
     "data": {
      "text/plain": "          one  two  three  four\nColorado    4    5      6     7\nUtah        8    9     10    11\nNew York   12   13     14    15",
      "text/html": "<div>\n<style scoped>\n    .dataframe tbody tr th:only-of-type {\n        vertical-align: middle;\n    }\n\n    .dataframe tbody tr th {\n        vertical-align: top;\n    }\n\n    .dataframe thead th {\n        text-align: right;\n    }\n</style>\n<table border=\"1\" class=\"dataframe\">\n  <thead>\n    <tr style=\"text-align: right;\">\n      <th></th>\n      <th>one</th>\n      <th>two</th>\n      <th>three</th>\n      <th>four</th>\n    </tr>\n  </thead>\n  <tbody>\n    <tr>\n      <th>Colorado</th>\n      <td>4</td>\n      <td>5</td>\n      <td>6</td>\n      <td>7</td>\n    </tr>\n    <tr>\n      <th>Utah</th>\n      <td>8</td>\n      <td>9</td>\n      <td>10</td>\n      <td>11</td>\n    </tr>\n    <tr>\n      <th>New York</th>\n      <td>12</td>\n      <td>13</td>\n      <td>14</td>\n      <td>15</td>\n    </tr>\n  </tbody>\n</table>\n</div>"
     },
     "execution_count": 108,
     "metadata": {},
     "output_type": "execute_result"
    }
   ],
   "source": [
    "data[data.three > 5]"
   ],
   "metadata": {
    "collapsed": false,
    "ExecuteTime": {
     "end_time": "2024-01-28T13:46:34.285336916Z",
     "start_time": "2024-01-28T13:46:34.222257761Z"
    }
   },
   "id": "14ab20ec988d890b"
  },
  {
   "cell_type": "code",
   "execution_count": 109,
   "outputs": [
    {
     "data": {
      "text/plain": "            one    two  three   four\nOhio       True   True   True   True\nColorado   True  False  False  False\nUtah      False  False  False  False\nNew York  False  False  False  False",
      "text/html": "<div>\n<style scoped>\n    .dataframe tbody tr th:only-of-type {\n        vertical-align: middle;\n    }\n\n    .dataframe tbody tr th {\n        vertical-align: top;\n    }\n\n    .dataframe thead th {\n        text-align: right;\n    }\n</style>\n<table border=\"1\" class=\"dataframe\">\n  <thead>\n    <tr style=\"text-align: right;\">\n      <th></th>\n      <th>one</th>\n      <th>two</th>\n      <th>three</th>\n      <th>four</th>\n    </tr>\n  </thead>\n  <tbody>\n    <tr>\n      <th>Ohio</th>\n      <td>True</td>\n      <td>True</td>\n      <td>True</td>\n      <td>True</td>\n    </tr>\n    <tr>\n      <th>Colorado</th>\n      <td>True</td>\n      <td>False</td>\n      <td>False</td>\n      <td>False</td>\n    </tr>\n    <tr>\n      <th>Utah</th>\n      <td>False</td>\n      <td>False</td>\n      <td>False</td>\n      <td>False</td>\n    </tr>\n    <tr>\n      <th>New York</th>\n      <td>False</td>\n      <td>False</td>\n      <td>False</td>\n      <td>False</td>\n    </tr>\n  </tbody>\n</table>\n</div>"
     },
     "execution_count": 109,
     "metadata": {},
     "output_type": "execute_result"
    }
   ],
   "source": [
    "data < 5"
   ],
   "metadata": {
    "collapsed": false,
    "ExecuteTime": {
     "end_time": "2024-01-28T13:46:44.060312937Z",
     "start_time": "2024-01-28T13:46:43.989021018Z"
    }
   },
   "id": "44e2b0cdf0e4aa1f"
  },
  {
   "cell_type": "code",
   "execution_count": 111,
   "outputs": [
    {
     "data": {
      "text/plain": "          one  two  three  four\nOhio        0    0      0     0\nColorado    0    5      6     7\nUtah        8    9     10    11\nNew York   12   13     14    15",
      "text/html": "<div>\n<style scoped>\n    .dataframe tbody tr th:only-of-type {\n        vertical-align: middle;\n    }\n\n    .dataframe tbody tr th {\n        vertical-align: top;\n    }\n\n    .dataframe thead th {\n        text-align: right;\n    }\n</style>\n<table border=\"1\" class=\"dataframe\">\n  <thead>\n    <tr style=\"text-align: right;\">\n      <th></th>\n      <th>one</th>\n      <th>two</th>\n      <th>three</th>\n      <th>four</th>\n    </tr>\n  </thead>\n  <tbody>\n    <tr>\n      <th>Ohio</th>\n      <td>0</td>\n      <td>0</td>\n      <td>0</td>\n      <td>0</td>\n    </tr>\n    <tr>\n      <th>Colorado</th>\n      <td>0</td>\n      <td>5</td>\n      <td>6</td>\n      <td>7</td>\n    </tr>\n    <tr>\n      <th>Utah</th>\n      <td>8</td>\n      <td>9</td>\n      <td>10</td>\n      <td>11</td>\n    </tr>\n    <tr>\n      <th>New York</th>\n      <td>12</td>\n      <td>13</td>\n      <td>14</td>\n      <td>15</td>\n    </tr>\n  </tbody>\n</table>\n</div>"
     },
     "execution_count": 111,
     "metadata": {},
     "output_type": "execute_result"
    }
   ],
   "source": [
    "data[data < 5] = 0\n",
    "data"
   ],
   "metadata": {
    "collapsed": false,
    "ExecuteTime": {
     "end_time": "2024-01-28T13:47:07.610829776Z",
     "start_time": "2024-01-28T13:47:07.596169342Z"
    }
   },
   "id": "89c3843685cfc03a"
  },
  {
   "cell_type": "markdown",
   "source": [
    "## Selection with loc and iloc"
   ],
   "metadata": {
    "collapsed": false
   },
   "id": "8772be20340f8b31"
  },
  {
   "cell_type": "code",
   "execution_count": 113,
   "outputs": [
    {
     "data": {
      "text/plain": "two    5\none    0\nName: Colorado, dtype: int64"
     },
     "execution_count": 113,
     "metadata": {},
     "output_type": "execute_result"
    }
   ],
   "source": [
    "data.loc['Colorado', ['two', 'one']]"
   ],
   "metadata": {
    "collapsed": false,
    "ExecuteTime": {
     "end_time": "2024-01-28T13:48:11.459314864Z",
     "start_time": "2024-01-28T13:48:11.416043185Z"
    }
   },
   "id": "a34b050ef9b88562"
  },
  {
   "cell_type": "code",
   "execution_count": 114,
   "outputs": [
    {
     "data": {
      "text/plain": "four    11\none      8\ntwo      9\nName: Utah, dtype: int64"
     },
     "execution_count": 114,
     "metadata": {},
     "output_type": "execute_result"
    }
   ],
   "source": [
    "data.iloc[2, [3, 0, 1]]"
   ],
   "metadata": {
    "collapsed": false,
    "ExecuteTime": {
     "end_time": "2024-01-28T13:48:32.940992246Z",
     "start_time": "2024-01-28T13:48:32.888675358Z"
    }
   },
   "id": "f08e329234559d1"
  },
  {
   "cell_type": "code",
   "execution_count": 115,
   "outputs": [
    {
     "data": {
      "text/plain": "one       8\ntwo       9\nthree    10\nfour     11\nName: Utah, dtype: int64"
     },
     "execution_count": 115,
     "metadata": {},
     "output_type": "execute_result"
    }
   ],
   "source": [
    "data.iloc[2]"
   ],
   "metadata": {
    "collapsed": false,
    "ExecuteTime": {
     "end_time": "2024-01-28T13:48:48.629127789Z",
     "start_time": "2024-01-28T13:48:48.552834077Z"
    }
   },
   "id": "e6d51617a8b6e7c3"
  },
  {
   "cell_type": "code",
   "execution_count": 116,
   "outputs": [
    {
     "data": {
      "text/plain": "Ohio        0\nColorado    5\nUtah        9\nName: two, dtype: int64"
     },
     "execution_count": 116,
     "metadata": {},
     "output_type": "execute_result"
    }
   ],
   "source": [
    "data.loc[:'Utah', 'two']"
   ],
   "metadata": {
    "collapsed": false,
    "ExecuteTime": {
     "end_time": "2024-01-28T13:49:13.741210762Z",
     "start_time": "2024-01-28T13:49:13.663565534Z"
    }
   },
   "id": "634aeac4b68582eb"
  },
  {
   "cell_type": "code",
   "execution_count": 124,
   "outputs": [
    {
     "data": {
      "text/plain": "Colorado     6\nUtah        10\nNew York    14\nName: three, dtype: int64"
     },
     "execution_count": 124,
     "metadata": {},
     "output_type": "execute_result"
    }
   ],
   "source": [
    "data.iloc[:, 2][data.three > 5]"
   ],
   "metadata": {
    "collapsed": false,
    "ExecuteTime": {
     "end_time": "2024-01-28T13:52:32.509410402Z",
     "start_time": "2024-01-28T13:52:32.489309911Z"
    }
   },
   "id": "71a073694bd53533"
  },
  {
   "cell_type": "code",
   "execution_count": 118,
   "outputs": [
    {
     "data": {
      "text/plain": "          one  two  three  four\nOhio        0    0      0     0\nColorado    0    5      6     7\nUtah        8    9     10    11\nNew York   12   13     14    15",
      "text/html": "<div>\n<style scoped>\n    .dataframe tbody tr th:only-of-type {\n        vertical-align: middle;\n    }\n\n    .dataframe tbody tr th {\n        vertical-align: top;\n    }\n\n    .dataframe thead th {\n        text-align: right;\n    }\n</style>\n<table border=\"1\" class=\"dataframe\">\n  <thead>\n    <tr style=\"text-align: right;\">\n      <th></th>\n      <th>one</th>\n      <th>two</th>\n      <th>three</th>\n      <th>four</th>\n    </tr>\n  </thead>\n  <tbody>\n    <tr>\n      <th>Ohio</th>\n      <td>0</td>\n      <td>0</td>\n      <td>0</td>\n      <td>0</td>\n    </tr>\n    <tr>\n      <th>Colorado</th>\n      <td>0</td>\n      <td>5</td>\n      <td>6</td>\n      <td>7</td>\n    </tr>\n    <tr>\n      <th>Utah</th>\n      <td>8</td>\n      <td>9</td>\n      <td>10</td>\n      <td>11</td>\n    </tr>\n    <tr>\n      <th>New York</th>\n      <td>12</td>\n      <td>13</td>\n      <td>14</td>\n      <td>15</td>\n    </tr>\n  </tbody>\n</table>\n</div>"
     },
     "execution_count": 118,
     "metadata": {},
     "output_type": "execute_result"
    }
   ],
   "source": [
    "data"
   ],
   "metadata": {
    "collapsed": false,
    "ExecuteTime": {
     "end_time": "2024-01-28T13:50:13.897943624Z",
     "start_time": "2024-01-28T13:50:13.819667402Z"
    }
   },
   "id": "b80db1165ba71d24"
  }
 ],
 "metadata": {
  "kernelspec": {
   "display_name": "Python 3 (ipykernel)",
   "language": "python",
   "name": "python3"
  },
  "language_info": {
   "codemirror_mode": {
    "name": "ipython",
    "version": 3
   },
   "file_extension": ".py",
   "mimetype": "text/x-python",
   "name": "python",
   "nbconvert_exporter": "python",
   "pygments_lexer": "ipython3",
   "version": "3.12.1"
  },
  "widgets": {
   "application/vnd.jupyter.widget-state+json": {
    "state": {},
    "version_major": 2,
    "version_minor": 0
   }
  }
 },
 "nbformat": 4,
 "nbformat_minor": 5
}
