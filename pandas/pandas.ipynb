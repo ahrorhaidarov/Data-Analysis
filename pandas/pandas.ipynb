{
 "cells": [
  {
   "cell_type": "markdown",
   "id": "a0666b08-97cc-4b38-a5e2-3ce35bb63cc0",
   "metadata": {},
   "source": [
    "# Welcome to Pandas\n",
    "\n",
    "<img \n",
    "src=\"data:image/png;base64,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\">"
   ]
  },
  {
   "cell_type": "markdown",
   "id": "de55e2aa-33d4-4204-b9e3-904b1eb0cebe",
   "metadata": {},
   "source": [
    "### Installing `Pandas` in your computer"
   ]
  },
  {
   "cell_type": "code",
   "execution_count": null,
   "id": "9a3ce386-9d8c-4a17-b39c-4e37fd2dc08e",
   "metadata": {},
   "outputs": [],
   "source": [
    "!pip install pandas\n",
    "# Or write just \"pip install pandas\" on terminal"
   ]
  },
  {
   "cell_type": "code",
   "execution_count": 2,
   "id": "initial_id",
   "metadata": {
    "collapsed": true,
    "jupyter": {
     "outputs_hidden": true
    },
    "ExecuteTime": {
     "end_time": "2024-01-28T09:18:58.044718801Z",
     "start_time": "2024-01-28T09:18:58.033785938Z"
    }
   },
   "outputs": [],
   "source": [
    "import pandas as pd"
   ]
  },
  {
   "cell_type": "markdown",
   "id": "6f19f032-3f11-4b41-8443-806cbdd1ea6f",
   "metadata": {
    "collapsed": false
   },
   "source": [
    "### Pandas Series"
   ]
  },
  {
   "cell_type": "code",
   "execution_count": 7,
   "id": "d34bdca1-9eff-49ba-90fd-93fe3b58acb6",
   "metadata": {
    "ExecuteTime": {
     "end_time": "2024-01-27T12:21:46.452891043Z",
     "start_time": "2024-01-27T12:21:46.407684946Z"
    }
   },
   "outputs": [
    {
     "data": {
      "text/plain": "0    1\n1    8\n2   -4\n3    6\ndtype: int64"
     },
     "execution_count": 7,
     "metadata": {},
     "output_type": "execute_result"
    }
   ],
   "source": [
    "ob = pd.Series([1, 8, -4, 6])\n",
    "ob"
   ]
  },
  {
   "cell_type": "markdown",
   "source": [
    "### Indexs"
   ],
   "metadata": {
    "collapsed": false
   },
   "id": "71f50246b0bf9f3d"
  },
  {
   "cell_type": "code",
   "execution_count": 13,
   "outputs": [
    {
     "data": {
      "text/plain": "RangeIndex(start=0, stop=4, step=1)"
     },
     "execution_count": 13,
     "metadata": {},
     "output_type": "execute_result"
    }
   ],
   "source": [
    "index = ob.index\n",
    "index"
   ],
   "metadata": {
    "collapsed": false,
    "ExecuteTime": {
     "end_time": "2024-01-27T12:25:13.348431005Z",
     "start_time": "2024-01-27T12:25:13.339810555Z"
    }
   },
   "id": "31d32fb8e7764d10"
  },
  {
   "cell_type": "code",
   "execution_count": 21,
   "outputs": [
    {
     "data": {
      "text/plain": "s    4\nd    5\ng    8\ny   -9\ndtype: int64"
     },
     "execution_count": 21,
     "metadata": {},
     "output_type": "execute_result"
    }
   ],
   "source": [
    "obj = pd.Series([4, 5, 8, -9], index=['s', 'd', 'g', 'y'])\n",
    "obj"
   ],
   "metadata": {
    "collapsed": false,
    "ExecuteTime": {
     "end_time": "2024-01-28T09:38:38.350080382Z",
     "start_time": "2024-01-28T09:38:38.338966842Z"
    }
   },
   "id": "d90a5e85e5853532"
  },
  {
   "cell_type": "code",
   "execution_count": 15,
   "outputs": [
    {
     "data": {
      "text/plain": "Index(['s', 'd', 'g', 'y'], dtype='object')"
     },
     "execution_count": 15,
     "metadata": {},
     "output_type": "execute_result"
    }
   ],
   "source": [
    "obj.index"
   ],
   "metadata": {
    "collapsed": false,
    "ExecuteTime": {
     "end_time": "2024-01-27T12:27:21.045928461Z",
     "start_time": "2024-01-27T12:27:21.022187970Z"
    }
   },
   "id": "29bfc00ec262b283"
  },
  {
   "cell_type": "markdown",
   "source": [
    "#### We can access to single values in Series like Numpy array using labels"
   ],
   "metadata": {
    "collapsed": false
   },
   "id": "26b3dac3ea13f34b"
  },
  {
   "cell_type": "code",
   "execution_count": 16,
   "outputs": [
    {
     "data": {
      "text/plain": "5"
     },
     "execution_count": 16,
     "metadata": {},
     "output_type": "execute_result"
    }
   ],
   "source": [
    "obj['d']"
   ],
   "metadata": {
    "collapsed": false,
    "ExecuteTime": {
     "end_time": "2024-01-27T12:29:47.912043886Z",
     "start_time": "2024-01-27T12:29:47.864634151Z"
    }
   },
   "id": "4d74435e98afb4f"
  },
  {
   "cell_type": "code",
   "execution_count": 17,
   "outputs": [],
   "source": [
    "obj['s'] = 10"
   ],
   "metadata": {
    "collapsed": false,
    "ExecuteTime": {
     "end_time": "2024-01-27T12:30:06.405796073Z",
     "start_time": "2024-01-27T12:30:06.356820488Z"
    }
   },
   "id": "2ba44c9fa46d67eb"
  },
  {
   "cell_type": "code",
   "execution_count": 18,
   "outputs": [
    {
     "data": {
      "text/plain": "s    10\nd     5\ny    -9\ndtype: int64"
     },
     "execution_count": 18,
     "metadata": {},
     "output_type": "execute_result"
    }
   ],
   "source": [
    "obj[['s', 'd', 'y']]"
   ],
   "metadata": {
    "collapsed": false,
    "ExecuteTime": {
     "end_time": "2024-01-27T12:30:36.493095585Z",
     "start_time": "2024-01-27T12:30:36.450482366Z"
    }
   },
   "id": "529265185beba267"
  },
  {
   "cell_type": "markdown",
   "source": [
    "#### We use Numpy functions ar Numpy operations for filtering with boolean array, scalar multiplication, or applying math functions"
   ],
   "metadata": {
    "collapsed": false
   },
   "id": "9d009a0c65ef5ee9"
  },
  {
   "cell_type": "code",
   "execution_count": 20,
   "outputs": [
    {
     "data": {
      "text/plain": "s    10\nd     5\ng     8\ndtype: int64"
     },
     "execution_count": 20,
     "metadata": {},
     "output_type": "execute_result"
    }
   ],
   "source": [
    "obj[obj > 0]"
   ],
   "metadata": {
    "collapsed": false,
    "ExecuteTime": {
     "end_time": "2024-01-27T12:34:08.497971706Z",
     "start_time": "2024-01-27T12:34:08.481394117Z"
    }
   },
   "id": "c6ec171abe1e28ae"
  },
  {
   "cell_type": "code",
   "execution_count": 21,
   "outputs": [
    {
     "data": {
      "text/plain": "s    20\nd    10\ng    16\ny   -18\ndtype: int64"
     },
     "execution_count": 21,
     "metadata": {},
     "output_type": "execute_result"
    }
   ],
   "source": [
    "obj * 2"
   ],
   "metadata": {
    "collapsed": false,
    "ExecuteTime": {
     "end_time": "2024-01-27T12:34:18.867470475Z",
     "start_time": "2024-01-27T12:34:18.828227643Z"
    }
   },
   "id": "d9eef87751f8a1f0"
  },
  {
   "cell_type": "code",
   "execution_count": 22,
   "outputs": [
    {
     "data": {
      "text/plain": "s    4\nd    5\ng    8\ny    9\ndtype: int64"
     },
     "execution_count": 22,
     "metadata": {},
     "output_type": "execute_result"
    }
   ],
   "source": [
    "import numpy as np\n",
    "\n",
    "np.abs(obj)"
   ],
   "metadata": {
    "collapsed": false,
    "ExecuteTime": {
     "end_time": "2024-01-28T09:38:43.689352726Z",
     "start_time": "2024-01-28T09:38:43.665646068Z"
    }
   },
   "id": "755f255e81586367"
  },
  {
   "cell_type": "code",
   "execution_count": 25,
   "outputs": [
    {
     "data": {
      "text/plain": "True"
     },
     "execution_count": 25,
     "metadata": {},
     "output_type": "execute_result"
    }
   ],
   "source": [
    "'s' in obj"
   ],
   "metadata": {
    "collapsed": false,
    "ExecuteTime": {
     "end_time": "2024-01-27T12:35:25.721282772Z",
     "start_time": "2024-01-27T12:35:25.643125337Z"
    }
   },
   "id": "d4d1781441b21c50"
  },
  {
   "cell_type": "code",
   "execution_count": 26,
   "outputs": [
    {
     "data": {
      "text/plain": "False"
     },
     "execution_count": 26,
     "metadata": {},
     "output_type": "execute_result"
    }
   ],
   "source": [
    "'l' in obj"
   ],
   "metadata": {
    "collapsed": false,
    "ExecuteTime": {
     "end_time": "2024-01-27T12:35:41.113108416Z",
     "start_time": "2024-01-27T12:35:41.088416392Z"
    }
   },
   "id": "3cbb5829c81eb3cb"
  },
  {
   "cell_type": "markdown",
   "source": [
    "#### We have data contained in a Python dict, we can easily create a Series from it by passing the dict:"
   ],
   "metadata": {
    "collapsed": false
   },
   "id": "707283d1d64b9c4d"
  },
  {
   "cell_type": "code",
   "execution_count": 7,
   "outputs": [
    {
     "data": {
      "text/plain": "Tajikistan      10250000\nUzbekistan      35450000\nKazakhstan      19730000\nTurkmenistan     6000000\nKirgyztan        7000000\ndtype: int64"
     },
     "execution_count": 7,
     "metadata": {},
     "output_type": "execute_result"
    }
   ],
   "source": [
    "data = {'Tajikistan': 10_250_000,\n",
    "        'Uzbekistan': 35_450_000,\n",
    "        'Kazakhstan': 19_730_000,\n",
    "        'Turkmenistan': 6_000_000,\n",
    "        'Kirgyztan': 7_000_000\n",
    "    }\n",
    "obj2 = pd.Series(data)\n",
    "obj2"
   ],
   "metadata": {
    "collapsed": false,
    "ExecuteTime": {
     "end_time": "2024-01-27T12:48:21.929648730Z",
     "start_time": "2024-01-27T12:48:21.883172293Z"
    }
   },
   "id": "b9c3d49ab9e5f3de"
  },
  {
   "cell_type": "code",
   "execution_count": 17,
   "outputs": [
    {
     "data": {
      "text/plain": "Tajikistan      10250000.0\nUzbekistan      35450000.0\nTurkmenistan     6000000.0\nKirgyztan        7000000.0\nRussia                 NaN\ndtype: float64"
     },
     "execution_count": 17,
     "metadata": {},
     "output_type": "execute_result"
    }
   ],
   "source": [
    "countries = ['Tajikistan', 'Uzbekistan', 'Turkmenistan', 'Kirgyztan', 'Russia']\n",
    "\n",
    "obj3 = pd.Series(data, index=countries)\n",
    "obj3"
   ],
   "metadata": {
    "collapsed": false,
    "ExecuteTime": {
     "end_time": "2024-01-27T13:00:26.753166164Z",
     "start_time": "2024-01-27T13:00:26.740494487Z"
    }
   },
   "id": "d1fce80892da95da"
  },
  {
   "cell_type": "markdown",
   "source": [
    "#### Here, 5 values found in data where were number of populations, but there no vallue for 'Russia' was found, it will take NaN (not number), which considered in pandas to mark missing values\n",
    "\n",
    "#### We can use isnull and notnull functions to detect missing data"
   ],
   "metadata": {
    "collapsed": false
   },
   "id": "5cb0758632709484"
  },
  {
   "cell_type": "code",
   "execution_count": 18,
   "outputs": [
    {
     "data": {
      "text/plain": "Tajikistan      False\nUzbekistan      False\nTurkmenistan    False\nKirgyztan       False\nRussia           True\ndtype: bool"
     },
     "execution_count": 18,
     "metadata": {},
     "output_type": "execute_result"
    }
   ],
   "source": [
    "pd.isnull(obj3)"
   ],
   "metadata": {
    "collapsed": false,
    "ExecuteTime": {
     "end_time": "2024-01-27T13:00:27.906054206Z",
     "start_time": "2024-01-27T13:00:27.903043025Z"
    }
   },
   "id": "8c6485fd74670cb4"
  },
  {
   "cell_type": "code",
   "execution_count": 19,
   "outputs": [
    {
     "data": {
      "text/plain": "Tajikistan       True\nUzbekistan       True\nTurkmenistan     True\nKirgyztan        True\nRussia          False\ndtype: bool"
     },
     "execution_count": 19,
     "metadata": {},
     "output_type": "execute_result"
    }
   ],
   "source": [
    "pd.notnull(obj3)"
   ],
   "metadata": {
    "collapsed": false,
    "ExecuteTime": {
     "end_time": "2024-01-27T13:00:28.561506282Z",
     "start_time": "2024-01-27T13:00:28.553825528Z"
    }
   },
   "id": "6f7c896777e61ca4"
  },
  {
   "cell_type": "code",
   "execution_count": 20,
   "outputs": [
    {
     "data": {
      "text/plain": "Tajikistan      False\nUzbekistan      False\nTurkmenistan    False\nKirgyztan       False\nRussia           True\ndtype: bool"
     },
     "execution_count": 20,
     "metadata": {},
     "output_type": "execute_result"
    }
   ],
   "source": [
    "obj3.isnull()"
   ],
   "metadata": {
    "collapsed": false,
    "ExecuteTime": {
     "end_time": "2024-01-27T13:00:28.991362117Z",
     "start_time": "2024-01-27T13:00:28.975407104Z"
    }
   },
   "id": "2090dc20fb98ee05"
  },
  {
   "cell_type": "markdown",
   "source": [
    "#### Usefull fitures of Series"
   ],
   "metadata": {
    "collapsed": false
   },
   "id": "d54218eb043618ca"
  },
  {
   "cell_type": "code",
   "execution_count": 22,
   "outputs": [
    {
     "data": {
      "text/plain": "Tajikistan      10250000\nUzbekistan      35450000\nKazakhstan      19730000\nTurkmenistan     6000000\nKirgyztan        7000000\ndtype: int64"
     },
     "execution_count": 22,
     "metadata": {},
     "output_type": "execute_result"
    }
   ],
   "source": [
    "obj2"
   ],
   "metadata": {
    "collapsed": false,
    "ExecuteTime": {
     "end_time": "2024-01-27T13:01:26.131156407Z",
     "start_time": "2024-01-27T13:01:26.114139617Z"
    }
   },
   "id": "45d13294da52dd38"
  },
  {
   "cell_type": "code",
   "execution_count": 23,
   "outputs": [
    {
     "data": {
      "text/plain": "Tajikistan      10250000.0\nUzbekistan      35450000.0\nTurkmenistan     6000000.0\nKirgyztan        7000000.0\nRussia                 NaN\ndtype: float64"
     },
     "execution_count": 23,
     "metadata": {},
     "output_type": "execute_result"
    }
   ],
   "source": [
    "obj3"
   ],
   "metadata": {
    "collapsed": false,
    "ExecuteTime": {
     "end_time": "2024-01-27T13:01:31.961880351Z",
     "start_time": "2024-01-27T13:01:31.942199444Z"
    }
   },
   "id": "fff4c6cae3e9b65c"
  },
  {
   "cell_type": "code",
   "execution_count": 24,
   "outputs": [
    {
     "data": {
      "text/plain": "Kazakhstan             NaN\nKirgyztan       14000000.0\nRussia                 NaN\nTajikistan      20500000.0\nTurkmenistan    12000000.0\nUzbekistan      70900000.0\ndtype: float64"
     },
     "execution_count": 24,
     "metadata": {},
     "output_type": "execute_result"
    }
   ],
   "source": [
    "obj2 + obj3"
   ],
   "metadata": {
    "collapsed": false,
    "ExecuteTime": {
     "end_time": "2024-01-27T13:01:39.878195775Z",
     "start_time": "2024-01-27T13:01:39.859289493Z"
    }
   },
   "id": "1cf7d2d79a6fb19b"
  },
  {
   "cell_type": "markdown",
   "source": [
    "#### Both Series object itself and its index have a name attribute, which integrates with other key areas of pandas functionally:"
   ],
   "metadata": {
    "collapsed": false
   },
   "id": "8fb53ebc71cb5fa8"
  },
  {
   "cell_type": "code",
   "execution_count": 28,
   "outputs": [
    {
     "data": {
      "text/plain": "Country name\nTajikistan      10250000.0\nUzbekistan      35450000.0\nTurkmenistan     6000000.0\nKirgyztan        7000000.0\nRussia                 NaN\nName: Populations, dtype: float64"
     },
     "execution_count": 28,
     "metadata": {},
     "output_type": "execute_result"
    }
   ],
   "source": [
    "obj3.name = 'Populations'\n",
    "obj3.index.name = 'Country name'\n",
    "obj3"
   ],
   "metadata": {
    "collapsed": false,
    "ExecuteTime": {
     "end_time": "2024-01-27T13:55:59.799000669Z",
     "start_time": "2024-01-27T13:55:59.789953495Z"
    }
   },
   "id": "b0789a348e5a6409"
  },
  {
   "cell_type": "markdown",
   "source": [
    "#### A Series's index can be altered in-place by assignment:"
   ],
   "metadata": {
    "collapsed": false
   },
   "id": "5abde1c82f5a8546"
  },
  {
   "cell_type": "code",
   "execution_count": 29,
   "outputs": [
    {
     "data": {
      "text/plain": "s    4\nd    5\ng    8\ny   -9\ndtype: int64"
     },
     "execution_count": 29,
     "metadata": {},
     "output_type": "execute_result"
    }
   ],
   "source": [
    "obj"
   ],
   "metadata": {
    "collapsed": false,
    "ExecuteTime": {
     "end_time": "2024-01-27T14:09:25.059564029Z",
     "start_time": "2024-01-27T14:09:25.028648525Z"
    }
   },
   "id": "d881407b9da193d8"
  },
  {
   "cell_type": "code",
   "execution_count": 30,
   "outputs": [
    {
     "data": {
      "text/plain": "John     4\nPeter    5\nKevin    8\nAlan    -9\ndtype: int64"
     },
     "execution_count": 30,
     "metadata": {},
     "output_type": "execute_result"
    }
   ],
   "source": [
    "obj.index = ['John', 'Peter', 'Kevin', 'Alan']\n",
    "obj"
   ],
   "metadata": {
    "collapsed": false,
    "ExecuteTime": {
     "end_time": "2024-01-27T14:10:35.359936737Z",
     "start_time": "2024-01-27T14:10:35.304272950Z"
    }
   },
   "id": "60fef0b0c89ad50f"
  },
  {
   "cell_type": "markdown",
   "source": [
    "## DataFrame\n",
    "### A DataFrame represents a rectangular table of data and contains an ordered collec‐\n",
    "### tion of columns, each of which can be a different value type (numeric, string,\n",
    "### boolean, etc.)."
   ],
   "metadata": {
    "collapsed": false
   },
   "id": "afde96e1066bc1ca"
  },
  {
   "cell_type": "code",
   "execution_count": 6,
   "outputs": [
    {
     "data": {
      "text/plain": "        Country  Population       Location\n0    Tajikistan    10250000           Asia\n1    Uzbekistan    35450000           Asia\n2  Turkmenistan    19730000           Asia\n3     Kirgyztan     6000000           Asia\n4     Kirgyztan     7000000         Europe\n5         U.S.A   332000000  North America",
      "text/html": "<div>\n<style scoped>\n    .dataframe tbody tr th:only-of-type {\n        vertical-align: middle;\n    }\n\n    .dataframe tbody tr th {\n        vertical-align: top;\n    }\n\n    .dataframe thead th {\n        text-align: right;\n    }\n</style>\n<table border=\"1\" class=\"dataframe\">\n  <thead>\n    <tr style=\"text-align: right;\">\n      <th></th>\n      <th>Country</th>\n      <th>Population</th>\n      <th>Location</th>\n    </tr>\n  </thead>\n  <tbody>\n    <tr>\n      <th>0</th>\n      <td>Tajikistan</td>\n      <td>10250000</td>\n      <td>Asia</td>\n    </tr>\n    <tr>\n      <th>1</th>\n      <td>Uzbekistan</td>\n      <td>35450000</td>\n      <td>Asia</td>\n    </tr>\n    <tr>\n      <th>2</th>\n      <td>Turkmenistan</td>\n      <td>19730000</td>\n      <td>Asia</td>\n    </tr>\n    <tr>\n      <th>3</th>\n      <td>Kirgyztan</td>\n      <td>6000000</td>\n      <td>Asia</td>\n    </tr>\n    <tr>\n      <th>4</th>\n      <td>Kirgyztan</td>\n      <td>7000000</td>\n      <td>Europe</td>\n    </tr>\n    <tr>\n      <th>5</th>\n      <td>U.S.A</td>\n      <td>332000000</td>\n      <td>North America</td>\n    </tr>\n  </tbody>\n</table>\n</div>"
     },
     "execution_count": 6,
     "metadata": {},
     "output_type": "execute_result"
    }
   ],
   "source": [
    "data = {'Country': ['Tajikistan', 'Uzbekistan', 'Turkmenistan', 'Kirgyztan', 'Kirgyztan', 'U.S.A'],\n",
    "        'Population': [10_250_000, 35_450_000, 19_730_000, 6_000_000, 7_000_000, 332_000_000],\n",
    "        'Location': ['Asia', 'Asia', 'Asia', 'Asia', 'Europe', 'North America']}\n",
    "\n",
    "df = pd.DataFrame(data)\n",
    "df"
   ],
   "metadata": {
    "collapsed": false,
    "ExecuteTime": {
     "end_time": "2024-01-28T09:23:21.267356996Z",
     "start_time": "2024-01-28T09:23:21.256319908Z"
    }
   },
   "id": "b945d45dd0a9438b"
  },
  {
   "cell_type": "markdown",
   "source": [
    "### For large DataFrames, the head method selects only the first five rows:"
   ],
   "metadata": {
    "collapsed": false
   },
   "id": "7c75099ef78fa09c"
  },
  {
   "cell_type": "code",
   "execution_count": 7,
   "outputs": [
    {
     "data": {
      "text/plain": "        Country  Population Location\n0    Tajikistan    10250000     Asia\n1    Uzbekistan    35450000     Asia\n2  Turkmenistan    19730000     Asia\n3     Kirgyztan     6000000     Asia\n4     Kirgyztan     7000000   Europe",
      "text/html": "<div>\n<style scoped>\n    .dataframe tbody tr th:only-of-type {\n        vertical-align: middle;\n    }\n\n    .dataframe tbody tr th {\n        vertical-align: top;\n    }\n\n    .dataframe thead th {\n        text-align: right;\n    }\n</style>\n<table border=\"1\" class=\"dataframe\">\n  <thead>\n    <tr style=\"text-align: right;\">\n      <th></th>\n      <th>Country</th>\n      <th>Population</th>\n      <th>Location</th>\n    </tr>\n  </thead>\n  <tbody>\n    <tr>\n      <th>0</th>\n      <td>Tajikistan</td>\n      <td>10250000</td>\n      <td>Asia</td>\n    </tr>\n    <tr>\n      <th>1</th>\n      <td>Uzbekistan</td>\n      <td>35450000</td>\n      <td>Asia</td>\n    </tr>\n    <tr>\n      <th>2</th>\n      <td>Turkmenistan</td>\n      <td>19730000</td>\n      <td>Asia</td>\n    </tr>\n    <tr>\n      <th>3</th>\n      <td>Kirgyztan</td>\n      <td>6000000</td>\n      <td>Asia</td>\n    </tr>\n    <tr>\n      <th>4</th>\n      <td>Kirgyztan</td>\n      <td>7000000</td>\n      <td>Europe</td>\n    </tr>\n  </tbody>\n</table>\n</div>"
     },
     "execution_count": 7,
     "metadata": {},
     "output_type": "execute_result"
    }
   ],
   "source": [
    "df.head()"
   ],
   "metadata": {
    "collapsed": false,
    "ExecuteTime": {
     "end_time": "2024-01-28T09:23:23.589182027Z",
     "start_time": "2024-01-28T09:23:23.582413406Z"
    }
   },
   "id": "205db51a72294ec0"
  },
  {
   "cell_type": "code",
   "execution_count": 12,
   "outputs": [
    {
     "data": {
      "text/plain": "   Population       Location       Country\n0    10250000           Asia    Tajikistan\n1    35450000           Asia    Uzbekistan\n2    19730000           Asia  Turkmenistan\n3     6000000           Asia     Kirgyztan\n4     7000000         Europe     Kirgyztan\n5   332000000  North America         U.S.A",
      "text/html": "<div>\n<style scoped>\n    .dataframe tbody tr th:only-of-type {\n        vertical-align: middle;\n    }\n\n    .dataframe tbody tr th {\n        vertical-align: top;\n    }\n\n    .dataframe thead th {\n        text-align: right;\n    }\n</style>\n<table border=\"1\" class=\"dataframe\">\n  <thead>\n    <tr style=\"text-align: right;\">\n      <th></th>\n      <th>Population</th>\n      <th>Location</th>\n      <th>Country</th>\n    </tr>\n  </thead>\n  <tbody>\n    <tr>\n      <th>0</th>\n      <td>10250000</td>\n      <td>Asia</td>\n      <td>Tajikistan</td>\n    </tr>\n    <tr>\n      <th>1</th>\n      <td>35450000</td>\n      <td>Asia</td>\n      <td>Uzbekistan</td>\n    </tr>\n    <tr>\n      <th>2</th>\n      <td>19730000</td>\n      <td>Asia</td>\n      <td>Turkmenistan</td>\n    </tr>\n    <tr>\n      <th>3</th>\n      <td>6000000</td>\n      <td>Asia</td>\n      <td>Kirgyztan</td>\n    </tr>\n    <tr>\n      <th>4</th>\n      <td>7000000</td>\n      <td>Europe</td>\n      <td>Kirgyztan</td>\n    </tr>\n    <tr>\n      <th>5</th>\n      <td>332000000</td>\n      <td>North America</td>\n      <td>U.S.A</td>\n    </tr>\n  </tbody>\n</table>\n</div>"
     },
     "execution_count": 12,
     "metadata": {},
     "output_type": "execute_result"
    }
   ],
   "source": [
    "pd.DataFrame(data, columns=['Population', 'Location', 'Country'])"
   ],
   "metadata": {
    "collapsed": false,
    "ExecuteTime": {
     "end_time": "2024-01-28T09:26:24.773891450Z",
     "start_time": "2024-01-28T09:26:24.762681628Z"
    }
   },
   "id": "6bac937f74edece7"
  },
  {
   "cell_type": "code",
   "execution_count": 30,
   "outputs": [
    {
     "data": {
      "text/plain": "       Population       Location       Country Ranking\none      10250000           Asia    Tajikistan     NaN\ntwo      35450000           Asia    Uzbekistan     NaN\nthree    19730000           Asia  Turkmenistan     NaN\nfour      6000000           Asia     Kirgyztan     NaN\nfive      7000000         Europe     Kirgyztan     NaN\nsix     332000000  North America         U.S.A     NaN",
      "text/html": "<div>\n<style scoped>\n    .dataframe tbody tr th:only-of-type {\n        vertical-align: middle;\n    }\n\n    .dataframe tbody tr th {\n        vertical-align: top;\n    }\n\n    .dataframe thead th {\n        text-align: right;\n    }\n</style>\n<table border=\"1\" class=\"dataframe\">\n  <thead>\n    <tr style=\"text-align: right;\">\n      <th></th>\n      <th>Population</th>\n      <th>Location</th>\n      <th>Country</th>\n      <th>Ranking</th>\n    </tr>\n  </thead>\n  <tbody>\n    <tr>\n      <th>one</th>\n      <td>10250000</td>\n      <td>Asia</td>\n      <td>Tajikistan</td>\n      <td>NaN</td>\n    </tr>\n    <tr>\n      <th>two</th>\n      <td>35450000</td>\n      <td>Asia</td>\n      <td>Uzbekistan</td>\n      <td>NaN</td>\n    </tr>\n    <tr>\n      <th>three</th>\n      <td>19730000</td>\n      <td>Asia</td>\n      <td>Turkmenistan</td>\n      <td>NaN</td>\n    </tr>\n    <tr>\n      <th>four</th>\n      <td>6000000</td>\n      <td>Asia</td>\n      <td>Kirgyztan</td>\n      <td>NaN</td>\n    </tr>\n    <tr>\n      <th>five</th>\n      <td>7000000</td>\n      <td>Europe</td>\n      <td>Kirgyztan</td>\n      <td>NaN</td>\n    </tr>\n    <tr>\n      <th>six</th>\n      <td>332000000</td>\n      <td>North America</td>\n      <td>U.S.A</td>\n      <td>NaN</td>\n    </tr>\n  </tbody>\n</table>\n</div>"
     },
     "execution_count": 30,
     "metadata": {},
     "output_type": "execute_result"
    }
   ],
   "source": [
    "df2 = pd.DataFrame(data, columns=['Population', 'Location', 'Country', 'Ranking'], \n",
    "                   index=['one', 'two', 'three', 'four', 'five', 'six'])\n",
    "df2"
   ],
   "metadata": {
    "collapsed": false,
    "ExecuteTime": {
     "end_time": "2024-01-28T09:51:55.249182200Z",
     "start_time": "2024-01-28T09:51:55.235998309Z"
    }
   },
   "id": "c8cf6cca6571ad6d"
  },
  {
   "cell_type": "code",
   "execution_count": 31,
   "outputs": [
    {
     "data": {
      "text/plain": "Index(['Population', 'Location', 'Country', 'Ranking'], dtype='object')"
     },
     "execution_count": 31,
     "metadata": {},
     "output_type": "execute_result"
    }
   ],
   "source": [
    "df2.columns"
   ],
   "metadata": {
    "collapsed": false,
    "ExecuteTime": {
     "end_time": "2024-01-28T09:51:58.792761081Z",
     "start_time": "2024-01-28T09:51:58.777197083Z"
    }
   },
   "id": "2b094f7e57ad2958"
  },
  {
   "cell_type": "markdown",
   "source": [
    "#### When access to DataFrame's column by dict-like notation or by attribute it returns a Series"
   ],
   "metadata": {
    "collapsed": false
   },
   "id": "f5296ab2b107ced5"
  },
  {
   "cell_type": "code",
   "execution_count": 32,
   "outputs": [
    {
     "data": {
      "text/plain": "one        Tajikistan\ntwo        Uzbekistan\nthree    Turkmenistan\nfour        Kirgyztan\nfive        Kirgyztan\nsix             U.S.A\nName: Country, dtype: object"
     },
     "execution_count": 32,
     "metadata": {},
     "output_type": "execute_result"
    }
   ],
   "source": [
    "df2['Country']"
   ],
   "metadata": {
    "collapsed": false,
    "ExecuteTime": {
     "end_time": "2024-01-28T09:52:04.094755106Z",
     "start_time": "2024-01-28T09:52:04.081100015Z"
    }
   },
   "id": "e1c99b262f7b2b9e"
  },
  {
   "cell_type": "code",
   "execution_count": 33,
   "outputs": [
    {
     "data": {
      "text/plain": "one               Asia\ntwo               Asia\nthree             Asia\nfour              Asia\nfive            Europe\nsix      North America\nName: Location, dtype: object"
     },
     "execution_count": 33,
     "metadata": {},
     "output_type": "execute_result"
    }
   ],
   "source": [
    "df2.Location"
   ],
   "metadata": {
    "collapsed": false,
    "ExecuteTime": {
     "end_time": "2024-01-28T09:52:04.324558041Z",
     "start_time": "2024-01-28T09:52:04.302843517Z"
    }
   },
   "id": "571d765ebef11ab3"
  },
  {
   "cell_type": "markdown",
   "source": [
    "#### Rows can also be retrived by position or name with the special loc attribute"
   ],
   "metadata": {
    "collapsed": false
   },
   "id": "d82475a717746a3c"
  },
  {
   "cell_type": "code",
   "execution_count": 34,
   "outputs": [
    {
     "data": {
      "text/plain": "Population        19730000\nLocation              Asia\nCountry       Turkmenistan\nRanking                NaN\nName: three, dtype: object"
     },
     "execution_count": 34,
     "metadata": {},
     "output_type": "execute_result"
    }
   ],
   "source": [
    "df2.loc['three']"
   ],
   "metadata": {
    "collapsed": false,
    "ExecuteTime": {
     "end_time": "2024-01-28T09:52:04.603045882Z",
     "start_time": "2024-01-28T09:52:04.594550564Z"
    }
   },
   "id": "ea7d017ae15b2bb8"
  },
  {
   "cell_type": "markdown",
   "source": [
    "#### We can change the scalar value or an array of values "
   ],
   "metadata": {
    "collapsed": false
   },
   "id": "6819400d65f828e9"
  },
  {
   "cell_type": "code",
   "execution_count": 35,
   "outputs": [
    {
     "data": {
      "text/plain": "       Population       Location       Country  Ranking\none      10250000           Asia    Tajikistan        1\ntwo      35450000           Asia    Uzbekistan        1\nthree    19730000           Asia  Turkmenistan        1\nfour      6000000           Asia     Kirgyztan        1\nfive      7000000         Europe     Kirgyztan        1\nsix     332000000  North America         U.S.A        1",
      "text/html": "<div>\n<style scoped>\n    .dataframe tbody tr th:only-of-type {\n        vertical-align: middle;\n    }\n\n    .dataframe tbody tr th {\n        vertical-align: top;\n    }\n\n    .dataframe thead th {\n        text-align: right;\n    }\n</style>\n<table border=\"1\" class=\"dataframe\">\n  <thead>\n    <tr style=\"text-align: right;\">\n      <th></th>\n      <th>Population</th>\n      <th>Location</th>\n      <th>Country</th>\n      <th>Ranking</th>\n    </tr>\n  </thead>\n  <tbody>\n    <tr>\n      <th>one</th>\n      <td>10250000</td>\n      <td>Asia</td>\n      <td>Tajikistan</td>\n      <td>1</td>\n    </tr>\n    <tr>\n      <th>two</th>\n      <td>35450000</td>\n      <td>Asia</td>\n      <td>Uzbekistan</td>\n      <td>1</td>\n    </tr>\n    <tr>\n      <th>three</th>\n      <td>19730000</td>\n      <td>Asia</td>\n      <td>Turkmenistan</td>\n      <td>1</td>\n    </tr>\n    <tr>\n      <th>four</th>\n      <td>6000000</td>\n      <td>Asia</td>\n      <td>Kirgyztan</td>\n      <td>1</td>\n    </tr>\n    <tr>\n      <th>five</th>\n      <td>7000000</td>\n      <td>Europe</td>\n      <td>Kirgyztan</td>\n      <td>1</td>\n    </tr>\n    <tr>\n      <th>six</th>\n      <td>332000000</td>\n      <td>North America</td>\n      <td>U.S.A</td>\n      <td>1</td>\n    </tr>\n  </tbody>\n</table>\n</div>"
     },
     "execution_count": 35,
     "metadata": {},
     "output_type": "execute_result"
    }
   ],
   "source": [
    "df2['Ranking'] = 1\n",
    "df2"
   ],
   "metadata": {
    "collapsed": false,
    "ExecuteTime": {
     "end_time": "2024-01-28T09:52:04.889180530Z",
     "start_time": "2024-01-28T09:52:04.844753876Z"
    }
   },
   "id": "61ce48ff8f3aa97"
  },
  {
   "cell_type": "code",
   "execution_count": 36,
   "outputs": [
    {
     "data": {
      "text/plain": "       Population       Location       Country  Ranking\none      10250000           Asia    Tajikistan        1\ntwo      35450000           Asia    Uzbekistan        2\nthree    19730000           Asia  Turkmenistan        3\nfour      6000000           Asia     Kirgyztan        4\nfive      7000000         Europe     Kirgyztan        5\nsix     332000000  North America         U.S.A        6",
      "text/html": "<div>\n<style scoped>\n    .dataframe tbody tr th:only-of-type {\n        vertical-align: middle;\n    }\n\n    .dataframe tbody tr th {\n        vertical-align: top;\n    }\n\n    .dataframe thead th {\n        text-align: right;\n    }\n</style>\n<table border=\"1\" class=\"dataframe\">\n  <thead>\n    <tr style=\"text-align: right;\">\n      <th></th>\n      <th>Population</th>\n      <th>Location</th>\n      <th>Country</th>\n      <th>Ranking</th>\n    </tr>\n  </thead>\n  <tbody>\n    <tr>\n      <th>one</th>\n      <td>10250000</td>\n      <td>Asia</td>\n      <td>Tajikistan</td>\n      <td>1</td>\n    </tr>\n    <tr>\n      <th>two</th>\n      <td>35450000</td>\n      <td>Asia</td>\n      <td>Uzbekistan</td>\n      <td>2</td>\n    </tr>\n    <tr>\n      <th>three</th>\n      <td>19730000</td>\n      <td>Asia</td>\n      <td>Turkmenistan</td>\n      <td>3</td>\n    </tr>\n    <tr>\n      <th>four</th>\n      <td>6000000</td>\n      <td>Asia</td>\n      <td>Kirgyztan</td>\n      <td>4</td>\n    </tr>\n    <tr>\n      <th>five</th>\n      <td>7000000</td>\n      <td>Europe</td>\n      <td>Kirgyztan</td>\n      <td>5</td>\n    </tr>\n    <tr>\n      <th>six</th>\n      <td>332000000</td>\n      <td>North America</td>\n      <td>U.S.A</td>\n      <td>6</td>\n    </tr>\n  </tbody>\n</table>\n</div>"
     },
     "execution_count": 36,
     "metadata": {},
     "output_type": "execute_result"
    }
   ],
   "source": [
    "df2.Ranking = np.arange(1, 7)\n",
    "df2"
   ],
   "metadata": {
    "collapsed": false,
    "ExecuteTime": {
     "end_time": "2024-01-28T09:52:05.028280253Z",
     "start_time": "2024-01-28T09:52:04.977809217Z"
    }
   },
   "id": "54fdcb96166cbb7c"
  },
  {
   "cell_type": "code",
   "execution_count": 37,
   "outputs": [
    {
     "data": {
      "text/plain": "       Population       Location       Country  Ranking\none      10250000           Asia    Tajikistan      1.0\ntwo      35450000           Asia    Uzbekistan      8.0\nthree    19730000           Asia  Turkmenistan      NaN\nfour      6000000           Asia     Kirgyztan      NaN\nfive      7000000         Europe     Kirgyztan     78.0\nsix     332000000  North America         U.S.A     15.0",
      "text/html": "<div>\n<style scoped>\n    .dataframe tbody tr th:only-of-type {\n        vertical-align: middle;\n    }\n\n    .dataframe tbody tr th {\n        vertical-align: top;\n    }\n\n    .dataframe thead th {\n        text-align: right;\n    }\n</style>\n<table border=\"1\" class=\"dataframe\">\n  <thead>\n    <tr style=\"text-align: right;\">\n      <th></th>\n      <th>Population</th>\n      <th>Location</th>\n      <th>Country</th>\n      <th>Ranking</th>\n    </tr>\n  </thead>\n  <tbody>\n    <tr>\n      <th>one</th>\n      <td>10250000</td>\n      <td>Asia</td>\n      <td>Tajikistan</td>\n      <td>1.0</td>\n    </tr>\n    <tr>\n      <th>two</th>\n      <td>35450000</td>\n      <td>Asia</td>\n      <td>Uzbekistan</td>\n      <td>8.0</td>\n    </tr>\n    <tr>\n      <th>three</th>\n      <td>19730000</td>\n      <td>Asia</td>\n      <td>Turkmenistan</td>\n      <td>NaN</td>\n    </tr>\n    <tr>\n      <th>four</th>\n      <td>6000000</td>\n      <td>Asia</td>\n      <td>Kirgyztan</td>\n      <td>NaN</td>\n    </tr>\n    <tr>\n      <th>five</th>\n      <td>7000000</td>\n      <td>Europe</td>\n      <td>Kirgyztan</td>\n      <td>78.0</td>\n    </tr>\n    <tr>\n      <th>six</th>\n      <td>332000000</td>\n      <td>North America</td>\n      <td>U.S.A</td>\n      <td>15.0</td>\n    </tr>\n  </tbody>\n</table>\n</div>"
     },
     "execution_count": 37,
     "metadata": {},
     "output_type": "execute_result"
    }
   ],
   "source": [
    "values = pd.Series([8, 15, 78, 1], index=['two', 'six', 'five', 'one'])\n",
    "\n",
    "df2.Ranking = values\n",
    "df2"
   ],
   "metadata": {
    "collapsed": false,
    "ExecuteTime": {
     "end_time": "2024-01-28T09:52:05.275948963Z",
     "start_time": "2024-01-28T09:52:05.192350428Z"
    }
   },
   "id": "a83bd1ef9213b0fd"
  },
  {
   "cell_type": "code",
   "execution_count": 38,
   "outputs": [
    {
     "data": {
      "text/plain": "       Population       Location       Country  Ranking  Asian\none      10250000           Asia    Tajikistan      1.0   True\ntwo      35450000           Asia    Uzbekistan      8.0   True\nthree    19730000           Asia  Turkmenistan      NaN   True\nfour      6000000           Asia     Kirgyztan      NaN   True\nfive      7000000         Europe     Kirgyztan     78.0  False\nsix     332000000  North America         U.S.A     15.0  False",
      "text/html": "<div>\n<style scoped>\n    .dataframe tbody tr th:only-of-type {\n        vertical-align: middle;\n    }\n\n    .dataframe tbody tr th {\n        vertical-align: top;\n    }\n\n    .dataframe thead th {\n        text-align: right;\n    }\n</style>\n<table border=\"1\" class=\"dataframe\">\n  <thead>\n    <tr style=\"text-align: right;\">\n      <th></th>\n      <th>Population</th>\n      <th>Location</th>\n      <th>Country</th>\n      <th>Ranking</th>\n      <th>Asian</th>\n    </tr>\n  </thead>\n  <tbody>\n    <tr>\n      <th>one</th>\n      <td>10250000</td>\n      <td>Asia</td>\n      <td>Tajikistan</td>\n      <td>1.0</td>\n      <td>True</td>\n    </tr>\n    <tr>\n      <th>two</th>\n      <td>35450000</td>\n      <td>Asia</td>\n      <td>Uzbekistan</td>\n      <td>8.0</td>\n      <td>True</td>\n    </tr>\n    <tr>\n      <th>three</th>\n      <td>19730000</td>\n      <td>Asia</td>\n      <td>Turkmenistan</td>\n      <td>NaN</td>\n      <td>True</td>\n    </tr>\n    <tr>\n      <th>four</th>\n      <td>6000000</td>\n      <td>Asia</td>\n      <td>Kirgyztan</td>\n      <td>NaN</td>\n      <td>True</td>\n    </tr>\n    <tr>\n      <th>five</th>\n      <td>7000000</td>\n      <td>Europe</td>\n      <td>Kirgyztan</td>\n      <td>78.0</td>\n      <td>False</td>\n    </tr>\n    <tr>\n      <th>six</th>\n      <td>332000000</td>\n      <td>North America</td>\n      <td>U.S.A</td>\n      <td>15.0</td>\n      <td>False</td>\n    </tr>\n  </tbody>\n</table>\n</div>"
     },
     "execution_count": 38,
     "metadata": {},
     "output_type": "execute_result"
    }
   ],
   "source": [
    "df2['Asian'] = df2.Location == 'Asia'\n",
    "df2"
   ],
   "metadata": {
    "collapsed": false,
    "ExecuteTime": {
     "end_time": "2024-01-28T09:52:05.542192625Z",
     "start_time": "2024-01-28T09:52:05.534472805Z"
    }
   },
   "id": "136cf43cca8001d9"
  },
  {
   "cell_type": "markdown",
   "source": [
    "### The `del` method used to remove this column:"
   ],
   "metadata": {
    "collapsed": false
   },
   "id": "9f65b53aaf52b426"
  },
  {
   "cell_type": "code",
   "execution_count": 39,
   "outputs": [
    {
     "data": {
      "text/plain": "Index(['Population', 'Location', 'Country', 'Ranking'], dtype='object')"
     },
     "execution_count": 39,
     "metadata": {},
     "output_type": "execute_result"
    }
   ],
   "source": [
    "del df2['Asian']\n",
    "df2.columns"
   ],
   "metadata": {
    "collapsed": false,
    "ExecuteTime": {
     "end_time": "2024-01-28T09:52:05.891709183Z",
     "start_time": "2024-01-28T09:52:05.846606575Z"
    }
   },
   "id": "456f9337e907af88"
  },
  {
   "cell_type": "code",
   "execution_count": 44,
   "outputs": [
    {
     "data": {
      "text/plain": "      Tajikistan  Uzbekistan\n2001         2.4         1.7\n2002         2.9         3.6\n2000         NaN         1.5",
      "text/html": "<div>\n<style scoped>\n    .dataframe tbody tr th:only-of-type {\n        vertical-align: middle;\n    }\n\n    .dataframe tbody tr th {\n        vertical-align: top;\n    }\n\n    .dataframe thead th {\n        text-align: right;\n    }\n</style>\n<table border=\"1\" class=\"dataframe\">\n  <thead>\n    <tr style=\"text-align: right;\">\n      <th></th>\n      <th>Tajikistan</th>\n      <th>Uzbekistan</th>\n    </tr>\n  </thead>\n  <tbody>\n    <tr>\n      <th>2001</th>\n      <td>2.4</td>\n      <td>1.7</td>\n    </tr>\n    <tr>\n      <th>2002</th>\n      <td>2.9</td>\n      <td>3.6</td>\n    </tr>\n    <tr>\n      <th>2000</th>\n      <td>NaN</td>\n      <td>1.5</td>\n    </tr>\n  </tbody>\n</table>\n</div>"
     },
     "execution_count": 44,
     "metadata": {},
     "output_type": "execute_result"
    }
   ],
   "source": [
    "pop = {'Tajikistan': {2001: 2.4, 2002: 2.9},\n",
    "        'Uzbekistan': {2000: 1.5, 2001: 1.7, 2002: 3.6}}\n",
    "df3 = pd.DataFrame(pop)\n",
    "df3"
   ],
   "metadata": {
    "collapsed": false,
    "ExecuteTime": {
     "end_time": "2024-01-28T09:59:06.166629830Z",
     "start_time": "2024-01-28T09:59:06.145030180Z"
    }
   },
   "id": "720ae6e246eaf4bd"
  },
  {
   "cell_type": "markdown",
   "source": [
    "#### We can transpose the DataFrame (swap rows and columns) with similar syntax to a Numpy"
   ],
   "metadata": {
    "collapsed": false
   },
   "id": "3762dd227680bf29"
  },
  {
   "cell_type": "code",
   "execution_count": 45,
   "outputs": [
    {
     "data": {
      "text/plain": "            2001  2002  2000\nTajikistan   2.4   2.9   NaN\nUzbekistan   1.7   3.6   1.5",
      "text/html": "<div>\n<style scoped>\n    .dataframe tbody tr th:only-of-type {\n        vertical-align: middle;\n    }\n\n    .dataframe tbody tr th {\n        vertical-align: top;\n    }\n\n    .dataframe thead th {\n        text-align: right;\n    }\n</style>\n<table border=\"1\" class=\"dataframe\">\n  <thead>\n    <tr style=\"text-align: right;\">\n      <th></th>\n      <th>2001</th>\n      <th>2002</th>\n      <th>2000</th>\n    </tr>\n  </thead>\n  <tbody>\n    <tr>\n      <th>Tajikistan</th>\n      <td>2.4</td>\n      <td>2.9</td>\n      <td>NaN</td>\n    </tr>\n    <tr>\n      <th>Uzbekistan</th>\n      <td>1.7</td>\n      <td>3.6</td>\n      <td>1.5</td>\n    </tr>\n  </tbody>\n</table>\n</div>"
     },
     "execution_count": 45,
     "metadata": {},
     "output_type": "execute_result"
    }
   ],
   "source": [
    "df3.T"
   ],
   "metadata": {
    "collapsed": false,
    "ExecuteTime": {
     "end_time": "2024-01-28T09:59:06.847621699Z",
     "start_time": "2024-01-28T09:59:06.838798597Z"
    }
   },
   "id": "4171fa50ad66459d"
  },
  {
   "cell_type": "markdown",
   "source": [
    "#### We can use Series to create new DataFrame"
   ],
   "metadata": {
    "collapsed": false
   },
   "id": "8ab6c42907c54d74"
  },
  {
   "cell_type": "code",
   "execution_count": 46,
   "outputs": [
    {
     "data": {
      "text/plain": "      Tajikistan  Uzbekistan\n2001         2.4         1.7\n2002         2.9         3.6",
      "text/html": "<div>\n<style scoped>\n    .dataframe tbody tr th:only-of-type {\n        vertical-align: middle;\n    }\n\n    .dataframe tbody tr th {\n        vertical-align: top;\n    }\n\n    .dataframe thead th {\n        text-align: right;\n    }\n</style>\n<table border=\"1\" class=\"dataframe\">\n  <thead>\n    <tr style=\"text-align: right;\">\n      <th></th>\n      <th>Tajikistan</th>\n      <th>Uzbekistan</th>\n    </tr>\n  </thead>\n  <tbody>\n    <tr>\n      <th>2001</th>\n      <td>2.4</td>\n      <td>1.7</td>\n    </tr>\n    <tr>\n      <th>2002</th>\n      <td>2.9</td>\n      <td>3.6</td>\n    </tr>\n  </tbody>\n</table>\n</div>"
     },
     "execution_count": 46,
     "metadata": {},
     "output_type": "execute_result"
    }
   ],
   "source": [
    "data = {'Tajikistan': df3['Tajikistan'][:-1],\n",
    "        'Uzbekistan': df3['Uzbekistan'][:-1]}\n",
    "pd.DataFrame(data)"
   ],
   "metadata": {
    "collapsed": false,
    "ExecuteTime": {
     "end_time": "2024-01-28T10:02:34.228606187Z",
     "start_time": "2024-01-28T10:02:34.145993319Z"
    }
   },
   "id": "3d395860107078c"
  },
  {
   "cell_type": "code",
   "execution_count": 55,
   "outputs": [],
   "source": [
    "df3.index.name = 'year' \n",
    "df3.columns.name = 'Countries'"
   ],
   "metadata": {
    "collapsed": false,
    "ExecuteTime": {
     "end_time": "2024-01-28T10:04:10.364010736Z",
     "start_time": "2024-01-28T10:04:10.309706280Z"
    }
   },
   "id": "b634551937f2429c"
  },
  {
   "cell_type": "code",
   "execution_count": 56,
   "outputs": [
    {
     "data": {
      "text/plain": "Countries  Tajikistan  Uzbekistan\nyear                             \n2001              2.4         1.7\n2002              2.9         3.6\n2000              NaN         1.5",
      "text/html": "<div>\n<style scoped>\n    .dataframe tbody tr th:only-of-type {\n        vertical-align: middle;\n    }\n\n    .dataframe tbody tr th {\n        vertical-align: top;\n    }\n\n    .dataframe thead th {\n        text-align: right;\n    }\n</style>\n<table border=\"1\" class=\"dataframe\">\n  <thead>\n    <tr style=\"text-align: right;\">\n      <th>Countries</th>\n      <th>Tajikistan</th>\n      <th>Uzbekistan</th>\n    </tr>\n    <tr>\n      <th>year</th>\n      <th></th>\n      <th></th>\n    </tr>\n  </thead>\n  <tbody>\n    <tr>\n      <th>2001</th>\n      <td>2.4</td>\n      <td>1.7</td>\n    </tr>\n    <tr>\n      <th>2002</th>\n      <td>2.9</td>\n      <td>3.6</td>\n    </tr>\n    <tr>\n      <th>2000</th>\n      <td>NaN</td>\n      <td>1.5</td>\n    </tr>\n  </tbody>\n</table>\n</div>"
     },
     "execution_count": 56,
     "metadata": {},
     "output_type": "execute_result"
    }
   ],
   "source": [
    "df3"
   ],
   "metadata": {
    "collapsed": false,
    "ExecuteTime": {
     "end_time": "2024-01-28T10:04:11.421072518Z",
     "start_time": "2024-01-28T10:04:11.416179739Z"
    }
   },
   "id": "eef93239e1dd0d8"
  },
  {
   "cell_type": "code",
   "execution_count": 57,
   "outputs": [
    {
     "data": {
      "text/plain": "array([[2.4, 1.7],\n       [2.9, 3.6],\n       [nan, 1.5]])"
     },
     "execution_count": 57,
     "metadata": {},
     "output_type": "execute_result"
    }
   ],
   "source": [
    "df3.values"
   ],
   "metadata": {
    "collapsed": false,
    "ExecuteTime": {
     "end_time": "2024-01-28T10:06:20.576078887Z",
     "start_time": "2024-01-28T10:06:20.516399337Z"
    }
   },
   "id": "c0a2b7cc29a8f3fa"
  },
  {
   "cell_type": "markdown",
   "source": [
    "### There are some methods of Pandas Index"
   ],
   "metadata": {
    "collapsed": false
   },
   "id": "65cd0da3c033dfbc"
  },
  {
   "cell_type": "code",
   "execution_count": 88,
   "outputs": [
    {
     "name": "stdout",
     "output_type": "stream",
     "text": [
      "Index([2, 8, 6, 9, 8], dtype='int64')\n"
     ]
    },
    {
     "data": {
      "text/plain": "Index([1, 5, 6, 2], dtype='int64')"
     },
     "execution_count": 88,
     "metadata": {},
     "output_type": "execute_result"
    }
   ],
   "source": [
    "idx1 = pd.Index([2, 8, 6, 9, 8])\n",
    "idx2 = pd.Index([1, 5, 6, 2])\n",
    "print(idx1)\n",
    "idx2"
   ],
   "metadata": {
    "collapsed": false,
    "ExecuteTime": {
     "end_time": "2024-01-28T10:56:36.018245377Z",
     "start_time": "2024-01-28T10:56:35.971028734Z"
    }
   },
   "id": "213e90a3ab6f4deb"
  },
  {
   "cell_type": "code",
   "execution_count": 89,
   "outputs": [
    {
     "data": {
      "text/plain": "Index([8, 9], dtype='int64')"
     },
     "execution_count": 89,
     "metadata": {},
     "output_type": "execute_result"
    }
   ],
   "source": [
    "idx1.difference(idx2) # -> returns the difference of value from second Index"
   ],
   "metadata": {
    "collapsed": false,
    "ExecuteTime": {
     "end_time": "2024-01-28T10:56:36.768396764Z",
     "start_time": "2024-01-28T10:56:36.761783512Z"
    }
   },
   "id": "6e54adf0ba529511"
  },
  {
   "cell_type": "code",
   "execution_count": 90,
   "outputs": [
    {
     "data": {
      "text/plain": "Index([2, 8, 6, 9, 8, 1, 5, 6, 2], dtype='int64')"
     },
     "execution_count": 90,
     "metadata": {},
     "output_type": "execute_result"
    }
   ],
   "source": [
    "idx1.append(idx2) # -> adds value or values at the end of Index"
   ],
   "metadata": {
    "collapsed": false,
    "ExecuteTime": {
     "end_time": "2024-01-28T10:56:36.959709081Z",
     "start_time": "2024-01-28T10:56:36.944493470Z"
    }
   },
   "id": "ae32c315ef58f22b"
  },
  {
   "cell_type": "code",
   "execution_count": 91,
   "outputs": [
    {
     "data": {
      "text/plain": "Index([2, 6], dtype='int64')"
     },
     "execution_count": 91,
     "metadata": {},
     "output_type": "execute_result"
    }
   ],
   "source": [
    "idx1.intersection(idx2) # -> returns the general values"
   ],
   "metadata": {
    "collapsed": false,
    "ExecuteTime": {
     "end_time": "2024-01-28T10:56:37.110104027Z",
     "start_time": "2024-01-28T10:56:37.102372187Z"
    }
   },
   "id": "c980516a621b687d"
  },
  {
   "cell_type": "code",
   "execution_count": 92,
   "outputs": [
    {
     "data": {
      "text/plain": "Index([1, 2, 5, 6, 8, 8, 9], dtype='int64')"
     },
     "execution_count": 92,
     "metadata": {},
     "output_type": "execute_result"
    }
   ],
   "source": [
    "idx1.union(idx2) # -> returns non general values"
   ],
   "metadata": {
    "collapsed": false,
    "ExecuteTime": {
     "end_time": "2024-01-28T10:56:37.283889817Z",
     "start_time": "2024-01-28T10:56:37.269770808Z"
    }
   },
   "id": "fb0542fce3c3249"
  },
  {
   "cell_type": "code",
   "execution_count": 93,
   "outputs": [
    {
     "data": {
      "text/plain": "array([ True, False,  True, False, False])"
     },
     "execution_count": 93,
     "metadata": {},
     "output_type": "execute_result"
    }
   ],
   "source": [
    "idx1.isin(idx2) # -> checks the given values in another index and returns bool"
   ],
   "metadata": {
    "collapsed": false,
    "ExecuteTime": {
     "end_time": "2024-01-28T10:56:37.438406383Z",
     "start_time": "2024-01-28T10:56:37.423971174Z"
    }
   },
   "id": "cb50d284ea73f96b"
  },
  {
   "cell_type": "code",
   "execution_count": 94,
   "outputs": [
    {
     "data": {
      "text/plain": "Index([2, 6, 9, 8], dtype='int64')"
     },
     "execution_count": 94,
     "metadata": {},
     "output_type": "execute_result"
    }
   ],
   "source": [
    "idx1.delete(1) # -> removes item by its index"
   ],
   "metadata": {
    "collapsed": false,
    "ExecuteTime": {
     "end_time": "2024-01-28T10:56:38.428211854Z",
     "start_time": "2024-01-28T10:56:38.408925076Z"
    }
   },
   "id": "50b456c11c3e7a3a"
  },
  {
   "cell_type": "code",
   "execution_count": 95,
   "outputs": [
    {
     "data": {
      "text/plain": "Index([1, 5, 2], dtype='int64')"
     },
     "execution_count": 95,
     "metadata": {},
     "output_type": "execute_result"
    }
   ],
   "source": [
    "idx2.drop(6) # -> removes item in Index by value"
   ],
   "metadata": {
    "collapsed": false,
    "ExecuteTime": {
     "end_time": "2024-01-28T10:56:39.031079850Z",
     "start_time": "2024-01-28T10:56:38.947532167Z"
    }
   },
   "id": "df9e8533874e7544"
  },
  {
   "cell_type": "code",
   "execution_count": 96,
   "outputs": [
    {
     "data": {
      "text/plain": "Index([2, 8, 18, 6, 9, 8], dtype='int64')"
     },
     "execution_count": 96,
     "metadata": {},
     "output_type": "execute_result"
    }
   ],
   "source": [
    "idx1.insert(2, 18) # -> adds value with index"
   ],
   "metadata": {
    "collapsed": false,
    "ExecuteTime": {
     "end_time": "2024-01-28T10:56:40.240275908Z",
     "start_time": "2024-01-28T10:56:40.221540440Z"
    }
   },
   "id": "2461e103ef52a687"
  },
  {
   "cell_type": "code",
   "execution_count": 97,
   "outputs": [
    {
     "data": {
      "text/plain": "False"
     },
     "execution_count": 97,
     "metadata": {},
     "output_type": "execute_result"
    }
   ],
   "source": [
    "idx1.is_unique # -> checks values for uniqueness and returns bool"
   ],
   "metadata": {
    "collapsed": false,
    "ExecuteTime": {
     "end_time": "2024-01-28T10:56:41.106687146Z",
     "start_time": "2024-01-28T10:56:41.098734794Z"
    }
   },
   "id": "24fcb268befb98e2"
  },
  {
   "cell_type": "code",
   "execution_count": 99,
   "outputs": [
    {
     "data": {
      "text/plain": "Index([2, 8, 6, 9], dtype='int64')"
     },
     "execution_count": 99,
     "metadata": {},
     "output_type": "execute_result"
    }
   ],
   "source": [
    "idx1.unique() # -> returns unique version of Index"
   ],
   "metadata": {
    "collapsed": false,
    "ExecuteTime": {
     "end_time": "2024-01-28T10:57:09.294847476Z",
     "start_time": "2024-01-28T10:57:09.275945327Z"
    }
   },
   "id": "5933a6d04719253a"
  },
  {
   "cell_type": "code",
   "execution_count": null,
   "outputs": [],
   "source": [],
   "metadata": {
    "collapsed": false
   },
   "id": "6980c45c95ceb3ba"
  }
 ],
 "metadata": {
  "kernelspec": {
   "display_name": "Python 3 (ipykernel)",
   "language": "python",
   "name": "python3"
  },
  "language_info": {
   "codemirror_mode": {
    "name": "ipython",
    "version": 3
   },
   "file_extension": ".py",
   "mimetype": "text/x-python",
   "name": "python",
   "nbconvert_exporter": "python",
   "pygments_lexer": "ipython3",
   "version": "3.12.1"
  },
  "widgets": {
   "application/vnd.jupyter.widget-state+json": {
    "state": {},
    "version_major": 2,
    "version_minor": 0
   }
  }
 },
 "nbformat": 4,
 "nbformat_minor": 5
}
